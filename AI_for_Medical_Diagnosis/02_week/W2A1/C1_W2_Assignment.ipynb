{
  "cells": [
    {
      "cell_type": "markdown",
      "metadata": {
        "id": "view-in-github",
        "colab_type": "text"
      },
      "source": [
        "<a href=\"https://colab.research.google.com/github/dralmadani/AI_for_Medicine_Specialization/blob/main/AI_for_Medical_Diagnosis/02_week/W2A1/C1_W2_Assignment.ipynb\" target=\"_parent\"><img src=\"https://colab.research.google.com/assets/colab-badge.svg\" alt=\"Open In Colab\"/></a>"
      ]
    },
    {
      "cell_type": "markdown",
      "metadata": {
        "id": "QlXysl_ngZZp"
      },
      "source": [
        "# Evaluation of Diagnostic Models\n",
        "\n",
        "Welcome to the second assignment of course 1. In this assignment, we will be working with the results of the X-ray classification model we developed in the previous assignment. In order to make the data processing a bit more manageable, we will be working with a subset of our training, and validation datasets. We will also use our manually labeled test dataset of 420 X-rays.  \n",
        "\n",
        "As a reminder, our dataset contains X-rays from 14 different conditions diagnosable from an X-ray. We'll evaluate our performance on each of these classes using the classification metrics we learned in lecture.\n",
        "\n",
        "**By the end of this assignment you will learn about:**\n",
        "\n",
        "1. Accuracy\n",
        "1. Prevalence\n",
        "1. Specificity & Sensitivity\n",
        "1. PPV and NPV\n",
        "1. ROC curve and AUCROC (c-statistic)\n",
        "1. Confidence Intervals"
      ]
    },
    {
      "cell_type": "markdown",
      "metadata": {
        "id": "Gfe98JLFgZZr"
      },
      "source": [
        "## Table of Contents\n",
        "\n",
        "- [1. Packages](#1)\n",
        "- [2. Overview](#2)\n",
        "- [3. Metrics](#3)\n",
        "    - [3.1 - True Positives, False Positives, True Negatives and False Negatives](#3-1)\n",
        "        - [Exercise 1 - true positives, false positives, true negatives, and false negatives](#ex-1)\n",
        "    - [3.2 - Accuracy](#3-2)\n",
        "        - [Exercise 2 - get_accuracy](#ex-2)\n",
        "    - [3.3 Prevalence](#3-3)\n",
        "        - [Exercise 3 - get_prevalence](#ex-3)\n",
        "    - [3.4 Sensitivity and Specificity](#3-4)\n",
        "        - [Exercise 4 - get_sensitivity and get_specificity](#ex-4)\n",
        "    - [3.5 PPV and NPV](#3-5)\n",
        "        - [Exercise 5 - get_ppv and get_npv](#ex-5)\n",
        "    - [3.6 ROC Curve](#3-6)\n",
        "- [4. Confidence Intervals](#4)\n",
        "- [5. Precision-Recall Curve](#5)\n",
        "- [6. F1 Score](#6)\n",
        "- [7. Calibration](#7)"
      ]
    },
    {
      "cell_type": "code",
      "source": [
        "!git clone https://github.com/dralmadani/AI_for_Medicine_Specialization.git\n",
        "%cd AI_for_Medicine_Specialization/AI_for_Medical_Diagnosis/02_week/W2A1/"
      ],
      "metadata": {
        "id": "Zbrk1MCEnNIe",
        "outputId": "9585a5d1-569a-4a42-f6c7-05fb6e221e1c",
        "colab": {
          "base_uri": "https://localhost:8080/"
        }
      },
      "execution_count": 7,
      "outputs": [
        {
          "output_type": "stream",
          "name": "stdout",
          "text": [
            "Cloning into 'AI_for_Medicine_Specialization'...\n",
            "remote: Enumerating objects: 1733, done.\u001b[K\n",
            "remote: Counting objects: 100% (285/285), done.\u001b[K\n",
            "remote: Compressing objects: 100% (212/212), done.\u001b[K\n",
            "remote: Total 1733 (delta 63), reused 274 (delta 59), pack-reused 1448\u001b[K\n",
            "Receiving objects: 100% (1733/1733), 692.97 MiB | 25.79 MiB/s, done.\n",
            "Resolving deltas: 100% (66/66), done.\n",
            "Checking out files: 100% (1552/1552), done.\n",
            "/content/AI_for_Medicine_Specialization/AI_for_Medical_Diagnosis/02_week/AI_for_Medicine_Specialization/AI_for_Medical_Diagnosis/02_week/AI_for_Medicine_Specialization/AI_for_Medical_Diagnosis/02_week/W2A1/AI_for_Medicine_Specialization/AI_for_Medical_Diagnosis/02_week/W2A1/AI_for_Medicine_Specialization/AI_for_Medical_Diagnosis/02_week/W2A1\n"
          ]
        }
      ]
    },
    {
      "cell_type": "markdown",
      "metadata": {
        "id": "b5NoHyStKFQg"
      },
      "source": [
        "<a name='1'></a>\n",
        "## 1. Packages\n",
        "\n",
        "In this assignment, we'll make use of the following packages:\n",
        "- [numpy](https://docs.scipy.org/doc/numpy/) is a popular library for scientific computing\n",
        "- [matplotlib](https://matplotlib.org/3.1.1/contents.html) is a plotting library compatible with numpy\n",
        "- [pandas](https://pandas.pydata.org/docs/) is what we'll use to manipulate our data\n",
        "- [sklearn](https://scikit-learn.org/stable/index.html) will be used to measure the performance of our model\n",
        "\n",
        "\n",
        "Run the next cell to import all the necessary packages as well as custom util functions."
      ]
    },
    {
      "cell_type": "code",
      "execution_count": 8,
      "metadata": {
        "id": "1RH6wvaDgZZk"
      },
      "outputs": [],
      "source": [
        "import numpy as np\n",
        "import matplotlib.pyplot as plt \n",
        "import pandas as pd  \n",
        "\n",
        "import util\n",
        "from public_tests import *\n",
        "from test_utils import *"
      ]
    },
    {
      "cell_type": "markdown",
      "metadata": {
        "id": "GA-7EX2vNmpX"
      },
      "source": [
        "<a name='2'></a>\n",
        "## 2. Overview\n",
        "\n",
        "We'll go through our evaluation metrics in the following order.\n",
        "\n",
        "- Metrics\n",
        "  - TP, TN, FP, FN\n",
        "  - Accuracy\n",
        "  - Prevalence\n",
        "  - Sensitivity and Specificity\n",
        "  - PPV and NPV\n",
        "  - AUC\n",
        "- Confidence Intervals"
      ]
    },
    {
      "cell_type": "markdown",
      "metadata": {
        "id": "8V8WFFMRgZZs"
      },
      "source": [
        "Let's take a quick peek at our dataset. The data is stored in two CSV files called `train_preds.csv` and `valid_preds.csv`. We have precomputed the model outputs for our test cases. We'll work with these predictions and the true class labels throughout the assignment."
      ]
    },
    {
      "cell_type": "code",
      "execution_count": 11,
      "metadata": {
        "colab": {
          "base_uri": "https://localhost:8080/"
        },
        "id": "-W1mQ0j_gZZs",
        "outputId": "71271b16-f902-4e83-cd55-3f55610f8f55"
      },
      "outputs": [
        {
          "output_type": "execute_result",
          "data": {
            "text/plain": [
              "['Cardiomegaly_pred',\n",
              " 'Emphysema_pred',\n",
              " 'Effusion_pred',\n",
              " 'Hernia_pred',\n",
              " 'Infiltration_pred',\n",
              " 'Mass_pred',\n",
              " 'Nodule_pred',\n",
              " 'Atelectasis_pred',\n",
              " 'Pneumothorax_pred',\n",
              " 'Pleural_Thickening_pred',\n",
              " 'Pneumonia_pred',\n",
              " 'Fibrosis_pred',\n",
              " 'Edema_pred',\n",
              " 'Consolidation_pred']"
            ]
          },
          "metadata": {},
          "execution_count": 11
        }
      ],
      "source": [
        "train_results = pd.read_csv(\"data/train_preds.csv\")\n",
        "valid_results = pd.read_csv(\"data/valid_preds.csv\")\n",
        "\n",
        "# the labels in our dataset\n",
        "class_labels = ['Cardiomegaly',\n",
        " 'Emphysema',\n",
        " 'Effusion',\n",
        " 'Hernia',\n",
        " 'Infiltration',\n",
        " 'Mass',\n",
        " 'Nodule',\n",
        " 'Atelectasis',\n",
        " 'Pneumothorax',\n",
        " 'Pleural_Thickening',\n",
        " 'Pneumonia',\n",
        " 'Fibrosis',\n",
        " 'Edema',\n",
        " 'Consolidation']\n",
        "\n",
        "# the labels for prediction values in our dataset\n",
        "pred_labels = [l + \"_pred\" for l in class_labels]\n",
        "pred_labels"
      ]
    },
    {
      "cell_type": "markdown",
      "metadata": {
        "id": "9XoFEIaT3dPR"
      },
      "source": [
        "Extract the labels (y) and the predictions (pred)."
      ]
    },
    {
      "cell_type": "code",
      "execution_count": 13,
      "metadata": {
        "colab": {
          "base_uri": "https://localhost:8080/",
          "height": 364
        },
        "id": "5ts82yadgZZw",
        "outputId": "825bd046-3ca5-4de1-9a5e-c94bcc95aeb5"
      },
      "outputs": [
        {
          "output_type": "display_data",
          "data": {
            "text/plain": [
              "array([[0, 0, 0, ..., 0, 0, 0],\n",
              "       [0, 0, 0, ..., 0, 0, 0],\n",
              "       [0, 0, 0, ..., 0, 0, 0],\n",
              "       ...,\n",
              "       [0, 0, 0, ..., 0, 0, 0],\n",
              "       [0, 0, 0, ..., 0, 0, 0],\n",
              "       [0, 0, 0, ..., 0, 0, 0]])"
            ]
          },
          "metadata": {}
        },
        {
          "output_type": "display_data",
          "data": {
            "text/plain": [
              "array([[0.71481043, 0.10027727, 0.18644935, ..., 0.39879912, 0.01586658,\n",
              "        0.15631977],\n",
              "       [0.61343116, 0.2338742 , 0.11707926, ..., 0.63802445, 0.02594805,\n",
              "        0.14441916],\n",
              "       [0.00776219, 0.06278664, 0.03281066, ..., 0.2624632 , 0.00775823,\n",
              "        0.12578967],\n",
              "       ...,\n",
              "       [0.23947868, 0.28574464, 0.13483292, ..., 0.45597878, 0.01175699,\n",
              "        0.16208261],\n",
              "       [0.06931898, 0.3392897 , 0.26663092, ..., 0.31620166, 0.06093922,\n",
              "        0.21916324],\n",
              "       [0.34368163, 0.5016763 , 0.24447492, ..., 0.10767135, 0.92164993,\n",
              "        0.64304066]])"
            ]
          },
          "metadata": {}
        }
      ],
      "source": [
        "y = valid_results[class_labels].values\n",
        "pred = valid_results[pred_labels].values\n",
        "display (y)\n",
        "display (pred)"
      ]
    },
    {
      "cell_type": "markdown",
      "metadata": {
        "id": "ZCgrMdcH3iyK"
      },
      "source": [
        "Run the next cell to view them side by side."
      ]
    },
    {
      "cell_type": "code",
      "execution_count": 14,
      "metadata": {
        "colab": {
          "base_uri": "https://localhost:8080/",
          "height": 300
        },
        "id": "N6Lp19_k3h_j",
        "outputId": "5ecd0542-3038-487f-96e4-887f05b7729f"
      },
      "outputs": [
        {
          "output_type": "execute_result",
          "data": {
            "text/plain": [
              "   Cardiomegaly  Emphysema  Effusion  Hernia  Infiltration  Mass  Nodule  \\\n",
              "0             0          0         0       0             0     0       0   \n",
              "1             0          0         0       0             1     0       1   \n",
              "2             0          0         0       0             0     0       0   \n",
              "3             0          0         0       0             0     0       0   \n",
              "4             0          0         0       0             0     0       0   \n",
              "\n",
              "   Atelectasis  Pneumothorax  Pleural_Thickening  ...  Infiltration_pred  \\\n",
              "0            0             0                   0  ...           0.256020   \n",
              "1            0             0                   0  ...           0.382199   \n",
              "2            0             0                   0  ...           0.427727   \n",
              "3            0             0                   0  ...           0.158596   \n",
              "4            0             0                   0  ...           0.536762   \n",
              "\n",
              "   Mass_pred  Nodule_pred  Atelectasis_pred  Pneumothorax_pred  \\\n",
              "0   0.266928     0.312440          0.460342           0.079453   \n",
              "1   0.176825     0.465807          0.489424           0.084595   \n",
              "2   0.115513     0.249030          0.035105           0.238761   \n",
              "3   0.259460     0.334870          0.266489           0.073371   \n",
              "4   0.198797     0.273110          0.186771           0.242122   \n",
              "\n",
              "   Pleural_Thickening_pred  Pneumonia_pred  Fibrosis_pred  Edema_pred  \\\n",
              "0                 0.271495        0.276861       0.398799    0.015867   \n",
              "1                 0.377317        0.363582       0.638024    0.025948   \n",
              "2                 0.167095        0.166389       0.262463    0.007758   \n",
              "3                 0.229834        0.191281       0.344348    0.008559   \n",
              "4                 0.309786        0.411771       0.244666    0.126930   \n",
              "\n",
              "   Consolidation_pred  \n",
              "0            0.156320  \n",
              "1            0.144419  \n",
              "2            0.125790  \n",
              "3            0.119153  \n",
              "4            0.342409  \n",
              "\n",
              "[5 rows x 28 columns]"
            ],
            "text/html": [
              "\n",
              "  <div id=\"df-94faae57-b679-4a23-9a8d-bc02b9c1b128\">\n",
              "    <div class=\"colab-df-container\">\n",
              "      <div>\n",
              "<style scoped>\n",
              "    .dataframe tbody tr th:only-of-type {\n",
              "        vertical-align: middle;\n",
              "    }\n",
              "\n",
              "    .dataframe tbody tr th {\n",
              "        vertical-align: top;\n",
              "    }\n",
              "\n",
              "    .dataframe thead th {\n",
              "        text-align: right;\n",
              "    }\n",
              "</style>\n",
              "<table border=\"1\" class=\"dataframe\">\n",
              "  <thead>\n",
              "    <tr style=\"text-align: right;\">\n",
              "      <th></th>\n",
              "      <th>Cardiomegaly</th>\n",
              "      <th>Emphysema</th>\n",
              "      <th>Effusion</th>\n",
              "      <th>Hernia</th>\n",
              "      <th>Infiltration</th>\n",
              "      <th>Mass</th>\n",
              "      <th>Nodule</th>\n",
              "      <th>Atelectasis</th>\n",
              "      <th>Pneumothorax</th>\n",
              "      <th>Pleural_Thickening</th>\n",
              "      <th>...</th>\n",
              "      <th>Infiltration_pred</th>\n",
              "      <th>Mass_pred</th>\n",
              "      <th>Nodule_pred</th>\n",
              "      <th>Atelectasis_pred</th>\n",
              "      <th>Pneumothorax_pred</th>\n",
              "      <th>Pleural_Thickening_pred</th>\n",
              "      <th>Pneumonia_pred</th>\n",
              "      <th>Fibrosis_pred</th>\n",
              "      <th>Edema_pred</th>\n",
              "      <th>Consolidation_pred</th>\n",
              "    </tr>\n",
              "  </thead>\n",
              "  <tbody>\n",
              "    <tr>\n",
              "      <th>0</th>\n",
              "      <td>0</td>\n",
              "      <td>0</td>\n",
              "      <td>0</td>\n",
              "      <td>0</td>\n",
              "      <td>0</td>\n",
              "      <td>0</td>\n",
              "      <td>0</td>\n",
              "      <td>0</td>\n",
              "      <td>0</td>\n",
              "      <td>0</td>\n",
              "      <td>...</td>\n",
              "      <td>0.256020</td>\n",
              "      <td>0.266928</td>\n",
              "      <td>0.312440</td>\n",
              "      <td>0.460342</td>\n",
              "      <td>0.079453</td>\n",
              "      <td>0.271495</td>\n",
              "      <td>0.276861</td>\n",
              "      <td>0.398799</td>\n",
              "      <td>0.015867</td>\n",
              "      <td>0.156320</td>\n",
              "    </tr>\n",
              "    <tr>\n",
              "      <th>1</th>\n",
              "      <td>0</td>\n",
              "      <td>0</td>\n",
              "      <td>0</td>\n",
              "      <td>0</td>\n",
              "      <td>1</td>\n",
              "      <td>0</td>\n",
              "      <td>1</td>\n",
              "      <td>0</td>\n",
              "      <td>0</td>\n",
              "      <td>0</td>\n",
              "      <td>...</td>\n",
              "      <td>0.382199</td>\n",
              "      <td>0.176825</td>\n",
              "      <td>0.465807</td>\n",
              "      <td>0.489424</td>\n",
              "      <td>0.084595</td>\n",
              "      <td>0.377317</td>\n",
              "      <td>0.363582</td>\n",
              "      <td>0.638024</td>\n",
              "      <td>0.025948</td>\n",
              "      <td>0.144419</td>\n",
              "    </tr>\n",
              "    <tr>\n",
              "      <th>2</th>\n",
              "      <td>0</td>\n",
              "      <td>0</td>\n",
              "      <td>0</td>\n",
              "      <td>0</td>\n",
              "      <td>0</td>\n",
              "      <td>0</td>\n",
              "      <td>0</td>\n",
              "      <td>0</td>\n",
              "      <td>0</td>\n",
              "      <td>0</td>\n",
              "      <td>...</td>\n",
              "      <td>0.427727</td>\n",
              "      <td>0.115513</td>\n",
              "      <td>0.249030</td>\n",
              "      <td>0.035105</td>\n",
              "      <td>0.238761</td>\n",
              "      <td>0.167095</td>\n",
              "      <td>0.166389</td>\n",
              "      <td>0.262463</td>\n",
              "      <td>0.007758</td>\n",
              "      <td>0.125790</td>\n",
              "    </tr>\n",
              "    <tr>\n",
              "      <th>3</th>\n",
              "      <td>0</td>\n",
              "      <td>0</td>\n",
              "      <td>0</td>\n",
              "      <td>0</td>\n",
              "      <td>0</td>\n",
              "      <td>0</td>\n",
              "      <td>0</td>\n",
              "      <td>0</td>\n",
              "      <td>0</td>\n",
              "      <td>0</td>\n",
              "      <td>...</td>\n",
              "      <td>0.158596</td>\n",
              "      <td>0.259460</td>\n",
              "      <td>0.334870</td>\n",
              "      <td>0.266489</td>\n",
              "      <td>0.073371</td>\n",
              "      <td>0.229834</td>\n",
              "      <td>0.191281</td>\n",
              "      <td>0.344348</td>\n",
              "      <td>0.008559</td>\n",
              "      <td>0.119153</td>\n",
              "    </tr>\n",
              "    <tr>\n",
              "      <th>4</th>\n",
              "      <td>0</td>\n",
              "      <td>0</td>\n",
              "      <td>0</td>\n",
              "      <td>0</td>\n",
              "      <td>0</td>\n",
              "      <td>0</td>\n",
              "      <td>0</td>\n",
              "      <td>0</td>\n",
              "      <td>0</td>\n",
              "      <td>0</td>\n",
              "      <td>...</td>\n",
              "      <td>0.536762</td>\n",
              "      <td>0.198797</td>\n",
              "      <td>0.273110</td>\n",
              "      <td>0.186771</td>\n",
              "      <td>0.242122</td>\n",
              "      <td>0.309786</td>\n",
              "      <td>0.411771</td>\n",
              "      <td>0.244666</td>\n",
              "      <td>0.126930</td>\n",
              "      <td>0.342409</td>\n",
              "    </tr>\n",
              "  </tbody>\n",
              "</table>\n",
              "<p>5 rows × 28 columns</p>\n",
              "</div>\n",
              "      <button class=\"colab-df-convert\" onclick=\"convertToInteractive('df-94faae57-b679-4a23-9a8d-bc02b9c1b128')\"\n",
              "              title=\"Convert this dataframe to an interactive table.\"\n",
              "              style=\"display:none;\">\n",
              "        \n",
              "  <svg xmlns=\"http://www.w3.org/2000/svg\" height=\"24px\"viewBox=\"0 0 24 24\"\n",
              "       width=\"24px\">\n",
              "    <path d=\"M0 0h24v24H0V0z\" fill=\"none\"/>\n",
              "    <path d=\"M18.56 5.44l.94 2.06.94-2.06 2.06-.94-2.06-.94-.94-2.06-.94 2.06-2.06.94zm-11 1L8.5 8.5l.94-2.06 2.06-.94-2.06-.94L8.5 2.5l-.94 2.06-2.06.94zm10 10l.94 2.06.94-2.06 2.06-.94-2.06-.94-.94-2.06-.94 2.06-2.06.94z\"/><path d=\"M17.41 7.96l-1.37-1.37c-.4-.4-.92-.59-1.43-.59-.52 0-1.04.2-1.43.59L10.3 9.45l-7.72 7.72c-.78.78-.78 2.05 0 2.83L4 21.41c.39.39.9.59 1.41.59.51 0 1.02-.2 1.41-.59l7.78-7.78 2.81-2.81c.8-.78.8-2.07 0-2.86zM5.41 20L4 18.59l7.72-7.72 1.47 1.35L5.41 20z\"/>\n",
              "  </svg>\n",
              "      </button>\n",
              "      \n",
              "  <style>\n",
              "    .colab-df-container {\n",
              "      display:flex;\n",
              "      flex-wrap:wrap;\n",
              "      gap: 12px;\n",
              "    }\n",
              "\n",
              "    .colab-df-convert {\n",
              "      background-color: #E8F0FE;\n",
              "      border: none;\n",
              "      border-radius: 50%;\n",
              "      cursor: pointer;\n",
              "      display: none;\n",
              "      fill: #1967D2;\n",
              "      height: 32px;\n",
              "      padding: 0 0 0 0;\n",
              "      width: 32px;\n",
              "    }\n",
              "\n",
              "    .colab-df-convert:hover {\n",
              "      background-color: #E2EBFA;\n",
              "      box-shadow: 0px 1px 2px rgba(60, 64, 67, 0.3), 0px 1px 3px 1px rgba(60, 64, 67, 0.15);\n",
              "      fill: #174EA6;\n",
              "    }\n",
              "\n",
              "    [theme=dark] .colab-df-convert {\n",
              "      background-color: #3B4455;\n",
              "      fill: #D2E3FC;\n",
              "    }\n",
              "\n",
              "    [theme=dark] .colab-df-convert:hover {\n",
              "      background-color: #434B5C;\n",
              "      box-shadow: 0px 1px 3px 1px rgba(0, 0, 0, 0.15);\n",
              "      filter: drop-shadow(0px 1px 2px rgba(0, 0, 0, 0.3));\n",
              "      fill: #FFFFFF;\n",
              "    }\n",
              "  </style>\n",
              "\n",
              "      <script>\n",
              "        const buttonEl =\n",
              "          document.querySelector('#df-94faae57-b679-4a23-9a8d-bc02b9c1b128 button.colab-df-convert');\n",
              "        buttonEl.style.display =\n",
              "          google.colab.kernel.accessAllowed ? 'block' : 'none';\n",
              "\n",
              "        async function convertToInteractive(key) {\n",
              "          const element = document.querySelector('#df-94faae57-b679-4a23-9a8d-bc02b9c1b128');\n",
              "          const dataTable =\n",
              "            await google.colab.kernel.invokeFunction('convertToInteractive',\n",
              "                                                     [key], {});\n",
              "          if (!dataTable) return;\n",
              "\n",
              "          const docLinkHtml = 'Like what you see? Visit the ' +\n",
              "            '<a target=\"_blank\" href=https://colab.research.google.com/notebooks/data_table.ipynb>data table notebook</a>'\n",
              "            + ' to learn more about interactive tables.';\n",
              "          element.innerHTML = '';\n",
              "          dataTable['output_type'] = 'display_data';\n",
              "          await google.colab.output.renderOutput(dataTable, element);\n",
              "          const docLink = document.createElement('div');\n",
              "          docLink.innerHTML = docLinkHtml;\n",
              "          element.appendChild(docLink);\n",
              "        }\n",
              "      </script>\n",
              "    </div>\n",
              "  </div>\n",
              "  "
            ]
          },
          "metadata": {},
          "execution_count": 14
        }
      ],
      "source": [
        "# let's take a peek at our dataset\n",
        "valid_results[np.concatenate([class_labels, pred_labels])].head()"
      ]
    },
    {
      "cell_type": "markdown",
      "metadata": {
        "id": "BktRP8PzgZZz"
      },
      "source": [
        "To further understand our dataset details, here's a histogram of the number of samples for each label in the validation dataset:"
      ]
    },
    {
      "cell_type": "code",
      "execution_count": 15,
      "metadata": {
        "colab": {
          "base_uri": "https://localhost:8080/",
          "height": 351
        },
        "id": "7rrtjgiKgZZ0",
        "outputId": "cae58ced-559a-4050-8677-7a445df6c274"
      },
      "outputs": [
        {
          "output_type": "display_data",
          "data": {
            "text/plain": [
              "<Figure size 432x288 with 1 Axes>"
            ],
            "image/png": "[encoded data removed]"
          },
          "metadata": {
            "needs_background": "light"
          }
        }
      ],
      "source": [
        "plt.xticks(rotation=90)\n",
        "plt.bar(x = class_labels, height= y.sum(axis=0));"
      ]
    },
    {
      "cell_type": "markdown",
      "metadata": {
        "id": "WMbrDZTfOQ_t"
      },
      "source": [
        "It seem like our dataset has an imbalanced population of samples. Specifically, our dataset has a small number of patients diagnosed with a `Hernia`."
      ]
    },
    {
      "cell_type": "markdown",
      "metadata": {
        "id": "MaBE2BeVOU-d"
      },
      "source": [
        "<a name='3'></a>\n",
        "## 3. Metrics\n",
        "\n",
        "<a name='3-1'></a>\n",
        "### 3.1 True Positives, False Positives, True Negatives and False Negatives\n",
        "\n",
        "The most basic statistics to compute from the model predictions are the true positives, true negatives, false positives, and false negatives. \n",
        "\n",
        "As the name suggests\n",
        "- True Positive (TP): The model classifies the example as positive, and the actual label also positive.\n",
        "- False Positive (FP): The model classifies the example as positive, **but** the actual label is negative.\n",
        "- True Negative (TN): The model classifies the example as negative, and the actual label is also negative.\n",
        "- False Negative (FN): The model classifies the example as negative, **but** the label is actually positive.\n",
        "\n",
        "We will count the number of TP, FP, TN and FN in the given data.  All of our metrics can be built off of these four statistics. \n",
        "\n",
        "Recall that the model outputs real numbers between 0 and 1.\n",
        "* To compute binary class predictions, we need to convert these to either 0 or 1. \n",
        "* We'll do this using a threshold value $th$.\n",
        "* Any model outputs above $th$ are set to 1, and below $th$ are set to 0. \n",
        "\n",
        "All of our metrics (except for AUC at the end) will depend on the choice of this threshold. \n",
        "\n",
        "<a name='ex-1'></a>\n",
        "### Exercise 1 -  true positives, false positives, true negatives and false negatives\n",
        "\n",
        "Fill in the functions to compute the TP, FP, TN, and FN for a given threshold below. \n",
        "\n",
        "The first one has been done for you."
      ]
    },
    {
      "cell_type": "code",
      "execution_count": null,
      "metadata": {
        "id": "HelqNeXsx1RC"
      },
      "outputs": [],
      "source": [
        "# UNQ_C1 (UNIQUE CELL IDENTIFIER, DO NOT EDIT)\n",
        "def true_positives(y, pred, th=0.5):\n",
        "    \"\"\"\n",
        "    Count true positives.\n",
        "\n",
        "    Args:\n",
        "        y (np.array): ground truth, size (n_examples)\n",
        "        pred (np.array): model output, size (n_examples)\n",
        "        th (float): cutoff value for positive prediction from model\n",
        "    Returns:\n",
        "        TP (int): true positives\n",
        "    \"\"\"\n",
        "    TP = 0\n",
        "    \n",
        "    # get thresholded predictions\n",
        "    thresholded_preds = pred >= th\n",
        "\n",
        "    # compute TP\n",
        "    TP = np.sum((y == 1) & (thresholded_preds == 1))\n",
        "    \n",
        "    return TP\n",
        "\n",
        "def true_negatives(y, pred, th=0.5):\n",
        "    \"\"\"\n",
        "    Count true negatives.\n",
        "\n",
        "    Args:\n",
        "        y (np.array): ground truth, size (n_examples)\n",
        "        pred (np.array): model output, size (n_examples)\n",
        "        th (float): cutoff value for positive prediction from model\n",
        "    Returns:\n",
        "        TN (int): true negatives\n",
        "    \"\"\"\n",
        "    TN = 0\n",
        "    \n",
        "    # get thresholded predictions\n",
        "    thresholded_preds = pred >= th\n",
        "\n",
        "    ### START CODE HERE (REPLACE INSTANCES OF 'None' with your code) ###\n",
        "    \n",
        "    # compute TN\n",
        "    TN = None\n",
        "    \n",
        "    ### END CODE HERE ###\n",
        "    \n",
        "    return TN\n",
        "\n",
        "def false_positives(y, pred, th=0.5):\n",
        "    \"\"\"\n",
        "    Count false positives.\n",
        "\n",
        "    Args:\n",
        "        y (np.array): ground truth, size (n_examples)\n",
        "        pred (np.array): model output, size (n_examples)\n",
        "        th (float): cutoff value for positive prediction from model\n",
        "    Returns:\n",
        "        FP (int): false positives\n",
        "    \"\"\"\n",
        "    FP = 0\n",
        "    \n",
        "    # get thresholded predictions\n",
        "    thresholded_preds = pred >= th\n",
        "    \n",
        "    ### START CODE HERE (REPLACE INSTANCES OF 'None' with your code) ###\n",
        "\n",
        "    # compute FP\n",
        "    FP = None\n",
        "    \n",
        "    ### END CODE HERE ###\n",
        "    \n",
        "    return FP\n",
        "\n",
        "def false_negatives(y, pred, th=0.5):\n",
        "    \"\"\"\n",
        "    Count false positives.\n",
        "\n",
        "    Args:\n",
        "        y (np.array): ground truth, size (n_examples)\n",
        "        pred (np.array): model output, size (n_examples)\n",
        "        th (float): cutoff value for positive prediction from model\n",
        "    Returns:\n",
        "        FN (int): false negatives\n",
        "    \"\"\"\n",
        "    FN = 0\n",
        "    \n",
        "    # get thresholded predictions\n",
        "    thresholded_preds = pred >= th\n",
        "\n",
        "    ### START CODE HERE (REPLACE INSTANCES OF 'None' with your code) ###\n",
        "    \n",
        "    # compute FN\n",
        "    FN = None\n",
        "    \n",
        "    ### END CODE HERE ###\n",
        "    \n",
        "    return FN"
      ]
    },
    {
      "cell_type": "code",
      "execution_count": null,
      "metadata": {
        "id": "ORgq9Y_FyDhF"
      },
      "outputs": [],
      "source": [
        "### do not modify this cell    \n",
        "get_tp_tn_fp_fn_test(true_positives, true_negatives, false_positives, false_negatives)    "
      ]
    },
    {
      "cell_type": "markdown",
      "metadata": {
        "id": "7Zcv5seQnL7N"
      },
      "source": [
        "##### Expected output\n",
        "\n",
        "```Python\n",
        "Your functions calcualted: \n",
        "    TP: 2\n",
        "    TN: 3\n",
        "    FP: 4\n",
        "    FN: 5\n",
        "```\n",
        "```\n",
        " All tests passed.\n",
        " All tests passed.\n",
        " All tests passed.\n",
        " All tests passed.\n",
        "```"
      ]
    },
    {
      "cell_type": "markdown",
      "metadata": {
        "id": "yz0x1BdhyuUN"
      },
      "source": [
        "Run the next cell to see a summary of evaluative metrics for the model predictions for each class. "
      ]
    },
    {
      "cell_type": "code",
      "execution_count": null,
      "metadata": {
        "id": "E6u3eoNCy1LU"
      },
      "outputs": [],
      "source": [
        "util.get_performance_metrics(y, pred, class_labels)"
      ]
    },
    {
      "cell_type": "markdown",
      "metadata": {
        "id": "F6M_l5QNy3ux"
      },
      "source": [
        "Right now it only has TP, TN, FP, FN. Throughout this assignment we'll fill in all the other metrics to learn more about our model performance."
      ]
    },
    {
      "cell_type": "markdown",
      "metadata": {
        "id": "ISy-naajOTp7"
      },
      "source": [
        "<a name='3-2'></a>\n",
        "### 3.2 - Accuracy\n",
        "\n",
        "Let's use a threshold of .5 for the probability cutoff for our predictions for all classes and calculate our model's accuracy as we would normally do in a machine learning problem. \n",
        "\n",
        "$$accuracy = \\frac{\\text{true positives} + \\text{true negatives}}{\\text{true positives} + \\text{true negatives} + \\text{false positives} + \\text{false negatives}}$$\n",
        "\n",
        "<a name='ex-2'></a>\n",
        "### Exercise 2 - get_accuracy\n",
        "\n",
        "Use this formula to compute accuracy below:"
      ]
    },
    {
      "cell_type": "markdown",
      "metadata": {
        "id": "80osm1y8nL7O"
      },
      "source": [
        "<details>    \n",
        "<summary>\n",
        "    <font size=\"3\" color=\"darkgreen\"><b>Hints</b></font>\n",
        "</summary>\n",
        "<p>\n",
        "<ul>\n",
        "    <li>Remember to set the value for the threshold when calling the functions.</li>\n",
        "</ul>\n",
        "</p>"
      ]
    },
    {
      "cell_type": "code",
      "execution_count": null,
      "metadata": {
        "id": "EL-ODvFjRHTR"
      },
      "outputs": [],
      "source": [
        "# UNQ_C2 (UNIQUE CELL IDENTIFIER, DO NOT EDIT)\n",
        "def get_accuracy(y, pred, th=0.5):\n",
        "    \"\"\"\n",
        "    Compute accuracy of predictions at threshold.\n",
        "\n",
        "    Args:\n",
        "        y (np.array): ground truth, size (n_examples)\n",
        "        pred (np.array): model output, size (n_examples)\n",
        "        th (float): cutoff value for positive prediction from model\n",
        "    Returns:\n",
        "        accuracy (float): accuracy of predictions at threshold\n",
        "    \"\"\"\n",
        "    accuracy = 0.0\n",
        "    \n",
        "    ### START CODE HERE (REPLACE INSTANCES OF 'None' with your code) ###\n",
        "    \n",
        "    # get TP, FP, TN, FN using our previously defined functions\n",
        "    TP = None\n",
        "    FP = None\n",
        "    TN = None\n",
        "    FN = None\n",
        "\n",
        "    # Compute accuracy using TP, FP, TN, FN\n",
        "    accuracy = None\n",
        "    \n",
        "    ### END CODE HERE ###\n",
        "    \n",
        "    return accuracy"
      ]
    },
    {
      "cell_type": "code",
      "execution_count": null,
      "metadata": {
        "id": "Sa5ypRRlRhVz"
      },
      "outputs": [],
      "source": [
        "### do not modify this cell    \n",
        "get_accuracy_test(get_accuracy)"
      ]
    },
    {
      "cell_type": "markdown",
      "metadata": {
        "id": "izjhxf_pnL7P"
      },
      "source": [
        "#### Expected output:\n",
        "\n",
        "```Python\n",
        "Test Case:\n",
        "\n",
        "Test Labels:\t   [1 0 0 1 1]\n",
        "Test Predictions:  [0.8 0.8 0.4 0.6 0.3]\n",
        "Threshold:\t     0.5\n",
        "Computed Accuracy: 0.6 \n",
        "```\n",
        "```\n",
        " All tests passed.\n",
        "```"
      ]
    },
    {
      "cell_type": "markdown",
      "metadata": {
        "id": "GGq_9OUBu9Er"
      },
      "source": [
        "Run the next cell to see the accuracy of the model output for each class, as well as the number of true positives, true negatives, false positives, and false negatives."
      ]
    },
    {
      "cell_type": "code",
      "execution_count": null,
      "metadata": {
        "id": "wmaDXXy0gZZ7"
      },
      "outputs": [],
      "source": [
        "util.get_performance_metrics(y, pred, class_labels, acc=get_accuracy)"
      ]
    },
    {
      "cell_type": "markdown",
      "metadata": {
        "id": "HtVllCgFgZZ-"
      },
      "source": [
        "If we were to judge our model's performance based on the accuracy metric, we would say that our model is not very accurate for detecting the `Infiltration` cases (accuracy of 0.657) but pretty accurate for detecting `Emphysema` (accuracy of 0.889). \n",
        "\n",
        "**But is that really the case?...**\n",
        "\n",
        "Let's imagine a model that simply predicts that any patient does **Not** have `Emphysema`, regardless of patient's measurements. Let's calculate the accuracy for such a model."
      ]
    },
    {
      "cell_type": "code",
      "execution_count": null,
      "metadata": {
        "id": "6N-2iQrqgZZ_"
      },
      "outputs": [],
      "source": [
        "get_accuracy(valid_results[\"Emphysema\"].values, np.zeros(len(valid_results)))"
      ]
    },
    {
      "cell_type": "markdown",
      "metadata": {
        "id": "BhSRo0iqKy_4"
      },
      "source": [
        "As you can see above, such a model would be 97% accurate! Even better than our deep learning based model. \n",
        "\n",
        "But is this really a good model? Wouldn't this model be wrong 100% of the time if the patient actually had this condition?\n",
        "\n",
        "In the following sections, we will address this concern with more advanced model measures - **sensitivity and specificity** - that evaluate how well the model predicts positives for patients with the condition and negatives for cases that actually do not have the condition."
      ]
    },
    {
      "cell_type": "markdown",
      "metadata": {
        "id": "nat--E8KgZaD"
      },
      "source": [
        "<a name='3-3'></a>\n",
        "### 3.3 - Prevalence\n",
        "\n",
        "Another important concept is **prevalence**. \n",
        "* In a medical context, prevalence is the proportion of people in the population who have the disease (or condition, etc). \n",
        "* In machine learning terms, this is the proportion of positive examples. The expression for prevalence is:\n",
        "\n",
        "$$prevalence = \\frac{1}{N} \\sum_{i} y_i$$\n",
        "\n",
        "where $y_i = 1$ when the example is 'positive' (has the disease).\n",
        "\n",
        "<a name='ex-3'></a>\n",
        "### Exercise 3 - get_prevalence\n",
        "\n",
        "Let's measure prevalence for each disease:"
      ]
    },
    {
      "cell_type": "markdown",
      "metadata": {
        "id": "-E3P08x9nL7Q"
      },
      "source": [
        "<details>    \n",
        "<summary>\n",
        "    <font size=\"3\" color=\"darkgreen\"><b>Hints</b></font>\n",
        "</summary>\n",
        "<p>\n",
        "<ul>\n",
        "    <li>\n",
        "    You can use <a href=\"https://docs.scipy.org/doc/numpy/reference/generated/numpy.mean.html\" > np.mean </a> to calculate the formula.</li>\n",
        "    <li>Actually, the automatic grader is expecting numpy.mean, so please use it instead of using an equally valid but different way of calculating the prevalence. =) </li>\n",
        "</ul>\n",
        "</p>\n"
      ]
    },
    {
      "cell_type": "code",
      "execution_count": null,
      "metadata": {
        "id": "Q0_6ptBGU_cD"
      },
      "outputs": [],
      "source": [
        "# UNQ_C3 (UNIQUE CELL IDENTIFIER, DO NOT EDIT)\n",
        "def get_prevalence(y):\n",
        "    \"\"\"\n",
        "    Compute prevalence.\n",
        "\n",
        "    Args:\n",
        "        y (np.array): ground truth, size (n_examples)\n",
        "    Returns:\n",
        "        prevalence (float): prevalence of positive cases\n",
        "    \"\"\"\n",
        "    prevalence = 0.0\n",
        "    \n",
        "    ### START CODE HERE (REPLACE INSTANCES OF 'None' with your code) ###\n",
        "    \n",
        "    prevalence = None\n",
        "    \n",
        "    ### END CODE HERE ###\n",
        "    \n",
        "    return prevalence"
      ]
    },
    {
      "cell_type": "code",
      "execution_count": null,
      "metadata": {
        "id": "djP5dqqsVabT"
      },
      "outputs": [],
      "source": [
        "### do npt modify this cell    \n",
        "get_prevalence_test(get_prevalence)"
      ]
    },
    {
      "cell_type": "markdown",
      "metadata": {
        "id": "HyE-cGcanL7R"
      },
      "source": [
        "#### Expected output:\n",
        "\n",
        "```Python\n",
        "Test Case:\n",
        "\n",
        "Test Labels:\t      [1 0 0 1 1 0 0 0 0 1]\n",
        "Computed Prevalence:  0.4  \n",
        "```\n",
        "```\n",
        " All tests passed.\n",
        "```"
      ]
    },
    {
      "cell_type": "code",
      "execution_count": null,
      "metadata": {
        "id": "lpBSG_kBVPXt"
      },
      "outputs": [],
      "source": [
        "util.get_performance_metrics(y, pred, class_labels, acc=get_accuracy, prevalence=get_prevalence)"
      ]
    },
    {
      "cell_type": "markdown",
      "metadata": {
        "id": "L_05ll_8nL7R"
      },
      "source": [
        "`Hernia` has a prevalence 0.002, which is the rarest among the studied conditions in our dataset."
      ]
    },
    {
      "cell_type": "markdown",
      "metadata": {
        "id": "n5vUNrXOgZaK"
      },
      "source": [
        "<a name='3-4'></a>\n",
        "### 3.4 Sensitivity and Specificity\n",
        "\n",
        "<img src=\"https://github.com/dralmadani/AI_for_Medicine_Specialization/blob/main/AI_for_Medical_Diagnosis/02_week/W2A1/images/sens_spec.png?raw=1\" width=\"30%\">\n",
        "\n",
        "Sensitivity and specificity are two of the most prominent numbers that are used to measure diagnostics tests.\n",
        "- Sensitivity is the probability that our test outputs positive given that the case is actually positive.\n",
        "- Specificity is the probability that the test outputs negative given that the case is actually negative. \n",
        "\n",
        "We can phrase this easily in terms of true positives, true negatives, false positives, and false negatives: \n",
        "\n",
        "$$sensitivity = \\frac{\\text{true positives}}{\\text{true positives} + \\text{false negatives}}$$\n",
        "\n",
        "$$specificity = \\frac{\\text{true negatives}}{\\text{true negatives} + \\text{false positives}}$$\n",
        "\n",
        "<a name='ex-4'></a>\n",
        "### Exercise 4 - get_sensitivity and get_specificity\n",
        "\n",
        "Let's calculate sensitivity and specificity for our model:"
      ]
    },
    {
      "cell_type": "code",
      "execution_count": null,
      "metadata": {
        "id": "QqRkeiD4Wev4"
      },
      "outputs": [],
      "source": [
        "# UNQ_C4 (UNIQUE CELL IDENTIFIER, DO NOT EDIT)\n",
        "def get_sensitivity(y, pred, th=0.5):\n",
        "    \"\"\"\n",
        "    Compute sensitivity of predictions at threshold.\n",
        "\n",
        "    Args:\n",
        "        y (np.array): ground truth, size (n_examples)\n",
        "        pred (np.array): model output, size (n_examples)\n",
        "        th (float): cutoff value for positive prediction from model\n",
        "    Returns:\n",
        "        sensitivity (float): probability that our test outputs positive given that the case is actually positive\n",
        "    \"\"\"\n",
        "    sensitivity = 0.0\n",
        "    \n",
        "    ### START CODE HERE (REPLACE INSTANCES OF 'None' with your code) ###\n",
        "    \n",
        "    # get TP and FN using our previously defined functions\n",
        "    TP = None\n",
        "    FN = None\n",
        "\n",
        "    # use TP and FN to compute sensitivity\n",
        "    sensitivity = None\n",
        "    \n",
        "    ### END CODE HERE ###\n",
        "    \n",
        "    return sensitivity\n",
        "\n",
        "def get_specificity(y, pred, th=0.5):\n",
        "    \"\"\"\n",
        "    Compute specificity of predictions at threshold.\n",
        "\n",
        "    Args:\n",
        "        y (np.array): ground truth, size (n_examples)\n",
        "        pred (np.array): model output, size (n_examples)\n",
        "        th (float): cutoff value for positive prediction from model\n",
        "    Returns:\n",
        "        specificity (float): probability that the test outputs negative given that the case is actually negative\n",
        "    \"\"\"\n",
        "    specificity = 0.0\n",
        "    \n",
        "    ### START CODE HERE (REPLACE INSTANCES OF 'None' with your code) ###\n",
        "    \n",
        "    # get TN and FP using our previously defined functions\n",
        "    TN = None\n",
        "    FP = None\n",
        "    \n",
        "    # use TN and FP to compute specificity \n",
        "    specificity = None\n",
        "    \n",
        "    ### END CODE HERE ###\n",
        "    \n",
        "    return specificity"
      ]
    },
    {
      "cell_type": "code",
      "execution_count": null,
      "metadata": {
        "id": "RInygNYDXdHz"
      },
      "outputs": [],
      "source": [
        "### do not modify this cell    \n",
        "get_sensitivity_specificity_test(get_sensitivity, get_specificity)"
      ]
    },
    {
      "cell_type": "markdown",
      "metadata": {
        "id": "nRgy13p7nL7S"
      },
      "source": [
        "#### Expected output:\n",
        "\n",
        "```Python\n",
        "Test Case:\n",
        "\n",
        "Test Labels:\t       [1 0 0 1 1]\n",
        "Test Predictions:      [1 0 0 1 1]\n",
        "Threshold:\t         0.5\n",
        "Computed Sensitivity:  0.6666666666666666\n",
        "Computed Specificity:  0.5 \n",
        "```\n",
        "```\n",
        " All tests passed.\n",
        " All tests passed.\n",
        "\n",
        "```"
      ]
    },
    {
      "cell_type": "code",
      "execution_count": null,
      "metadata": {
        "id": "EA3vVNp5gZaO"
      },
      "outputs": [],
      "source": [
        "util.get_performance_metrics(y, pred, class_labels, acc=get_accuracy, prevalence=get_prevalence, \n",
        "                        sens=get_sensitivity, spec=get_specificity)"
      ]
    },
    {
      "cell_type": "markdown",
      "metadata": {
        "id": "ExuKMpQCgZaR"
      },
      "source": [
        "Note that specificity and sensitivity do not depend on the prevalence of the positive class in the dataset. \n",
        "* This is because the statistics are only computed within people of the same class\n",
        "* Sensitivity only considers output on people in the positive class\n",
        "* Similarly, specificity only considers output on people in the negative class."
      ]
    },
    {
      "cell_type": "markdown",
      "metadata": {
        "id": "uib5ZXZ8gZaS"
      },
      "source": [
        "<a name='3-5'></a>\n",
        "### 3.5 PPV and NPV\n",
        "\n",
        "Diagnostically, however, sensitivity and specificity are not helpful. Sensitivity, for example, tells us the probability our test outputs positive given that the person already has the condition. Here, we are conditioning on the thing we would like to find out (whether the patient has the condition)!\n",
        "\n",
        "What would be more helpful is the probability that the person has the disease given that our test outputs positive. That brings us to positive predictive value (PPV) and negative predictive value (NPV).\n",
        "\n",
        "- Positive predictive value (PPV) is the probability that subjects with a positive screening test truly have the disease.\n",
        "- Negative predictive value (NPV) is the probability that subjects with a negative screening test truly don't have the disease.\n",
        "\n",
        "Again, we can formulate these in terms of true positives, true negatives, false positives, and false negatives: \n",
        "\n",
        "$$PPV = \\frac{\\text{true positives}}{\\text{true positives} + \\text{false positives}}$$ \n",
        "\n",
        "$$NPV = \\frac{\\text{true negatives}}{\\text{true negatives} + \\text{false negatives}}$$\n",
        "\n",
        "<a name='ex-5'></a>\n",
        "### Exercise 5 - get_ppv and get_npv\n",
        "\n",
        "Let's calculate PPV & NPV for our model:"
      ]
    },
    {
      "cell_type": "code",
      "execution_count": null,
      "metadata": {
        "id": "Jnd1QfVUeM1s"
      },
      "outputs": [],
      "source": [
        "# UNQ_C5 (UNIQUE CELL IDENTIFIER, DO NOT EDIT)\n",
        "def get_ppv(y, pred, th=0.5):\n",
        "    \"\"\"\n",
        "    Compute PPV of predictions at threshold.\n",
        "\n",
        "    Args:\n",
        "        y (np.array): ground truth, size (n_examples)\n",
        "        pred (np.array): model output, size (n_examples)\n",
        "        th (float): cutoff value for positive prediction from model\n",
        "    Returns:\n",
        "        PPV (float): positive predictive value of predictions at threshold\n",
        "    \"\"\"\n",
        "    PPV = 0.0\n",
        "    \n",
        "    ### START CODE HERE (REPLACE INSTANCES OF 'None' with your code) ###\n",
        "    \n",
        "    # get TP and FP using our previously defined functions\n",
        "    TP = None\n",
        "    FP = None\n",
        "\n",
        "    # use TP and FP to compute PPV\n",
        "    PPV = None\n",
        "    \n",
        "    ### END CODE HERE ###\n",
        "    \n",
        "    return PPV\n",
        "\n",
        "def get_npv(y, pred, th=0.5):\n",
        "    \"\"\"\n",
        "    Compute NPV of predictions at threshold.\n",
        "\n",
        "    Args:\n",
        "        y (np.array): ground truth, size (n_examples)\n",
        "        pred (np.array): model output, size (n_examples)\n",
        "        th (float): cutoff value for positive prediction from model\n",
        "    Returns:\n",
        "        NPV (float): negative predictive value of predictions at threshold\n",
        "    \"\"\"\n",
        "    NPV = 0.0\n",
        "    \n",
        "    ### START CODE HERE (REPLACE INSTANCES OF 'None' with your code) ###\n",
        "    \n",
        "    # get TN and FN using our previously defined functions\n",
        "    TN = None\n",
        "    FN = None\n",
        "\n",
        "    # use TN and FN to compute NPV\n",
        "    NPV = None\n",
        "    \n",
        "    ### END CODE HERE ###\n",
        "    \n",
        "    return NPV"
      ]
    },
    {
      "cell_type": "code",
      "execution_count": null,
      "metadata": {
        "id": "rHMPfR45fB5k"
      },
      "outputs": [],
      "source": [
        "### do not modify this cell    \n",
        "get_ppv_npv_test(get_ppv, get_npv)    "
      ]
    },
    {
      "cell_type": "markdown",
      "metadata": {
        "id": "IxpFNo1YnL7T"
      },
      "source": [
        "#### Expected output:\n",
        "\n",
        "```Python\n",
        "Test Case:\n",
        "\n",
        "Test Labels:\t   [1 0 0 1 1]\n",
        "Test Predictions:  [1 0 0 1 1]\n",
        "Threshold:\t     0.5\n",
        "Computed PPV:\t  0.6666666666666666\n",
        "Computed NPV:\t  0.5 \n",
        "```\n",
        "```\n",
        " All tests passed.\n",
        " All tests passed.\n",
        "```"
      ]
    },
    {
      "cell_type": "code",
      "execution_count": null,
      "metadata": {
        "id": "Upr9wVL-gZaW"
      },
      "outputs": [],
      "source": [
        "util.get_performance_metrics(y, pred, class_labels, acc=get_accuracy, prevalence=get_prevalence, \n",
        "                        sens=get_sensitivity, spec=get_specificity, ppv=get_ppv, npv=get_npv)"
      ]
    },
    {
      "cell_type": "markdown",
      "metadata": {
        "id": "Sx_454Rpff-D"
      },
      "source": [
        "Notice that despite having very high sensitivity and accuracy, the PPV of the predictions could still be very low. \n",
        "\n",
        "This is the case with `Edema`, for example. \n",
        "* The sensitivity for `Edema` is 0.75.\n",
        "* However, given that the model predicted positive, the probability that a person has Edema (its PPV) is only 0.066!"
      ]
    },
    {
      "cell_type": "markdown",
      "metadata": {
        "id": "5DEnn_rTgZaa"
      },
      "source": [
        "<a name='3-6'></a>\n",
        "### 3.6 ROC Curve\n",
        "\n",
        "So far we have been operating under the assumption that our model's prediction of `0.5` and above should be treated as positive and otherwise it should be treated as negative. This however was a rather arbitrary choice. One way to see this, is to look at a very informative visualization called the receiver operating characteristic (ROC) curve.\n",
        "\n",
        "The ROC curve is created by plotting the true positive rate (TPR) against the false positive rate (FPR) at various threshold settings. The ideal point is at the top left, with a true positive rate of 1 and a false positive rate of 0. The various points on the curve are generated by gradually changing the threshold.\n",
        "\n",
        "Let's look at this curve for our model:"
      ]
    },
    {
      "cell_type": "code",
      "execution_count": null,
      "metadata": {
        "id": "lA-UFT9ngZae"
      },
      "outputs": [],
      "source": [
        "util.get_curve(y, pred, class_labels)"
      ]
    },
    {
      "cell_type": "markdown",
      "metadata": {
        "id": "adjBlFIqgZah"
      },
      "source": [
        "The area under the ROC curve is also called AUCROC or C-statistic and is a measure of goodness of fit. In medical literature this number also gives the probability that a randomly selected patient who experienced a condition had a higher risk score than a patient who had not experienced the event. This summarizes the model output across all thresholds, and provides a good sense of the discriminative power of a given model.\n",
        "\n",
        "Let's use the `sklearn` metric function of `roc_auc_score` to add this score to our metrics table."
      ]
    },
    {
      "cell_type": "code",
      "execution_count": null,
      "metadata": {
        "id": "ipMeytjAgZai"
      },
      "outputs": [],
      "source": [
        "from sklearn.metrics import roc_auc_score\n",
        "util.get_performance_metrics(y, pred, class_labels, acc=get_accuracy, prevalence=get_prevalence, \n",
        "                        sens=get_sensitivity, spec=get_specificity, ppv=get_ppv, npv=get_npv, auc=roc_auc_score)"
      ]
    },
    {
      "cell_type": "markdown",
      "metadata": {
        "id": "_x5U0YTYgZaz"
      },
      "source": [
        "<a name='4'></a>\n",
        "## 4. Confidence Intervals"
      ]
    },
    {
      "cell_type": "markdown",
      "metadata": {
        "id": "dBE9owjVgZa0"
      },
      "source": [
        "Of course our dataset is only a sample of the real world, and our calculated values for all above metrics is an estimate of the real world values. It would be good to quantify this uncertainty due to the sampling of our dataset. We'll do this through the use of confidence intervals. A 95\\% confidence interval for an estimate $\\hat{s}$ of a parameter $s$ is an interval $I = (a, b)$ such that 95\\% of the time when the experiment is run, the true value $s$ is contained in $I$. More concretely, if we were to run the experiment many times, then the fraction of those experiments for which $I$ contains the true parameter would tend towards 95\\%.\n",
        "\n",
        "While some estimates come with methods for computing the confidence interval analytically, more complicated statistics, such as the AUC for example, are difficult. For these we can use a method called the *bootstrap*. The bootstrap estimates the uncertainty by resampling the dataset with replacement. For each resampling $i$, we will get a new estimate, $\\hat{s}_i$. We can then estimate the distribution of $\\hat{s}$ by using the distribution of $\\hat{s}_i$ for our bootstrap samples.\n",
        "\n",
        "In the code below, we create bootstrap samples and compute sample AUCs from those samples. Note that we use stratified random sampling (sampling from the positive and negative classes separately) to make sure that members of each class are represented. "
      ]
    },
    {
      "cell_type": "code",
      "execution_count": null,
      "metadata": {
        "id": "y9iFosWagZa1"
      },
      "outputs": [],
      "source": [
        "def bootstrap_auc(y, pred, classes, bootstraps = 100, fold_size = 1000):\n",
        "    statistics = np.zeros((len(classes), bootstraps))\n",
        "\n",
        "    for c in range(len(classes)):\n",
        "        df = pd.DataFrame(columns=['y', 'pred'])\n",
        "        df.loc[:, 'y'] = y[:, c]\n",
        "        df.loc[:, 'pred'] = pred[:, c]\n",
        "        # get positive examples for stratified sampling\n",
        "        df_pos = df[df.y == 1]\n",
        "        df_neg = df[df.y == 0]\n",
        "        prevalence = len(df_pos) / len(df)\n",
        "        for i in range(bootstraps):\n",
        "            # stratified sampling of positive and negative examples\n",
        "            pos_sample = df_pos.sample(n = int(fold_size * prevalence), replace=True)\n",
        "            neg_sample = df_neg.sample(n = int(fold_size * (1-prevalence)), replace=True)\n",
        "\n",
        "            y_sample = np.concatenate([pos_sample.y.values, neg_sample.y.values])\n",
        "            pred_sample = np.concatenate([pos_sample.pred.values, neg_sample.pred.values])\n",
        "            score = roc_auc_score(y_sample, pred_sample)\n",
        "            statistics[c][i] = score\n",
        "    return statistics\n",
        "\n",
        "statistics = bootstrap_auc(y, pred, class_labels)"
      ]
    },
    {
      "cell_type": "markdown",
      "metadata": {
        "id": "R0PF5X9cBsj4"
      },
      "source": [
        "Now we can compute confidence intervals from the sample statistics that we computed."
      ]
    },
    {
      "cell_type": "code",
      "execution_count": null,
      "metadata": {
        "id": "3pczjtYdgZa4"
      },
      "outputs": [],
      "source": [
        "util.print_confidence_intervals(class_labels, statistics)"
      ]
    },
    {
      "cell_type": "markdown",
      "metadata": {
        "id": "hVwBqqGFgZa8"
      },
      "source": [
        "As you can see, our confidence intervals are much wider for some classes than for others. Hernia, for example, has an interval around (0.30 - 0.98), indicating that we can't be certain it is better than chance (at 0.5). "
      ]
    },
    {
      "cell_type": "markdown",
      "metadata": {
        "id": "mu-YFGp-gZam"
      },
      "source": [
        "<a name='5'></a>\n",
        "## 5. Precision-Recall Curve\n"
      ]
    },
    {
      "cell_type": "markdown",
      "metadata": {
        "id": "qFHQ1N-W5uki"
      },
      "source": [
        "Precision-Recall are informative prediction metrics when significant class imbalance are present in the data.\n",
        "\n",
        "In information retrieval\n",
        "- Precision is a measure of result relevancy and that is equivalent to our previously defined PPV. \n",
        "- Recall is a measure of how many truly relevant results are returned and that is equivalent to our previously defined sensitivity measure.\n",
        "\n",
        "The precision-recall curve (PRC) shows the trade-off between precision and recall for different thresholds. A high area under the curve represents both high recall and high precision, where high precision relates to a low false positive rate, and high recall relates to a low false negative rate. \n",
        "\n",
        "High scores for both show that the classifier is returning accurate results (high precision), as well as returning a majority of all positive results (high recall).\n",
        "\n",
        "Run the following cell to generate a PRC:"
      ]
    },
    {
      "cell_type": "code",
      "execution_count": null,
      "metadata": {
        "id": "-ZauXuN2gZao"
      },
      "outputs": [],
      "source": [
        "util.get_curve(y, pred, class_labels, curve='prc')"
      ]
    },
    {
      "cell_type": "markdown",
      "metadata": {
        "id": "2M_NqLxggZau"
      },
      "source": [
        "<a name='6'></a>\n",
        "## 6. F1 Score"
      ]
    },
    {
      "cell_type": "markdown",
      "metadata": {
        "id": "NRDnbrt4gZaw"
      },
      "source": [
        "F1 score is the harmonic mean of the precision and recall, where an F1 score reaches its best value at 1 (perfect precision and recall) and worst at 0. \n",
        "\n",
        "Again, we can simply use `sklearn`'s utility metric function of `f1_score` to add this measure to our performance table."
      ]
    },
    {
      "cell_type": "code",
      "execution_count": null,
      "metadata": {
        "id": "oNHl3FBUgZax"
      },
      "outputs": [],
      "source": [
        "from sklearn.metrics import f1_score\n",
        "util.get_performance_metrics(y, pred, class_labels, acc=get_accuracy, prevalence=get_prevalence, \n",
        "                        sens=get_sensitivity, spec=get_specificity, ppv=get_ppv, npv=get_npv, auc=roc_auc_score,f1=f1_score)"
      ]
    },
    {
      "cell_type": "markdown",
      "metadata": {
        "id": "kE9MV08bgZa9"
      },
      "source": [
        "<a name='7'></a>\n",
        "## 7. Calibration"
      ]
    },
    {
      "cell_type": "markdown",
      "metadata": {
        "id": "LOSnToD4gZa9"
      },
      "source": [
        "When performing classification we often want not only to predict the class label, but also obtain a probability of each label. This probability would ideally give us some kind of confidence on the prediction. In order to observe how our model's generated probabilities are aligned with the real probabilities, we can plot what's called a *calibration curve*. \n",
        "\n",
        "In order to generate a calibration plot, we first bucketize our predictions to a fixed number of separate bins (e.g. 5) between 0 and 1. We then calculate a point for each bin: the x-value for each point is the mean for the probability that our model has assigned to these points and the y-value for each point fraction of true positives in that bin. We then plot these points in a linear plot. A well-calibrated model has a calibration curve that almost aligns with the y=x line.\n",
        "\n",
        "The `sklearn` library has a utility `calibration_curve` for generating a calibration plot. Let's use it and take a look at our model's calibration:"
      ]
    },
    {
      "cell_type": "code",
      "execution_count": null,
      "metadata": {
        "id": "VnomxuuJgZa-"
      },
      "outputs": [],
      "source": [
        "from sklearn.calibration import calibration_curve\n",
        "def plot_calibration_curve(y, pred):\n",
        "    plt.figure(figsize=(20, 20))\n",
        "    for i in range(len(class_labels)):\n",
        "        plt.subplot(4, 4, i + 1)\n",
        "        fraction_of_positives, mean_predicted_value = calibration_curve(y[:,i], pred[:,i], n_bins=20)\n",
        "        plt.plot([0, 1], [0, 1], linestyle='--')\n",
        "        plt.plot(mean_predicted_value, fraction_of_positives, marker='.')\n",
        "        plt.xlabel(\"Predicted Value\")\n",
        "        plt.ylabel(\"Fraction of Positives\")\n",
        "        plt.title(class_labels[i])\n",
        "    plt.tight_layout()\n",
        "    plt.show()"
      ]
    },
    {
      "cell_type": "code",
      "execution_count": null,
      "metadata": {
        "id": "P8qlOhMjgZbB"
      },
      "outputs": [],
      "source": [
        "plot_calibration_curve(y, pred)"
      ]
    },
    {
      "cell_type": "markdown",
      "metadata": {
        "id": "FpFvjFXhgZbD"
      },
      "source": [
        "As the above plots show, for most predictions our model's calibration plot does not resemble a well calibrated plot. How can we fix that?...\n",
        "\n",
        "Thankfully, there is a very useful method called [Platt scaling](https://en.wikipedia.org/wiki/Platt_scaling) which works by fitting a logistic regression model to our model's scores. To build this model, we will be using the training portion of our dataset to generate the linear model and then will use the model to calibrate the predictions for our test portion."
      ]
    },
    {
      "cell_type": "code",
      "execution_count": null,
      "metadata": {
        "id": "fxFg3dvXgZbE",
        "scrolled": true
      },
      "outputs": [],
      "source": [
        "from sklearn.linear_model import LogisticRegression as LR \n",
        "\n",
        "y_train = train_results[class_labels].values\n",
        "pred_train = train_results[pred_labels].values\n",
        "pred_calibrated = np.zeros_like(pred)\n",
        "\n",
        "for i in range(len(class_labels)):\n",
        "    lr = LR(solver='liblinear', max_iter=10000)\n",
        "    lr.fit(pred_train[:, i].reshape(-1, 1), y_train[:, i])    \n",
        "    pred_calibrated[:, i] = lr.predict_proba(pred[:, i].reshape(-1, 1))[:,1]"
      ]
    },
    {
      "cell_type": "code",
      "execution_count": null,
      "metadata": {
        "id": "k-XNpul1gZbH"
      },
      "outputs": [],
      "source": [
        "plot_calibration_curve(y[:,], pred_calibrated)"
      ]
    },
    {
      "cell_type": "markdown",
      "metadata": {
        "id": "tplWidB8nL7X"
      },
      "source": [
        "# That's it!\n",
        "Congratulations! That was a lot of metrics to get familiarized with. \n",
        "We hope that you feel a lot more confident in your understanding of medical diagnostic evaluation and test your models correctly in your future work :)"
      ]
    },
    {
      "cell_type": "code",
      "execution_count": null,
      "metadata": {
        "id": "p-J6LSxJnL7X"
      },
      "outputs": [],
      "source": [
        ""
      ]
    }
  ],
  "metadata": {
    "colab": {
      "collapsed_sections": [
        "mu-YFGp-gZam",
        "2M_NqLxggZau",
        "kE9MV08bgZa9"
      ],
      "name": "C1M3_Assignment.ipynb",
      "provenance": [],
      "include_colab_link": true
    },
    "kernelspec": {
      "display_name": "Python 3",
      "language": "python",
      "name": "python3"
    },
    "language_info": {
      "codemirror_mode": {
        "name": "ipython",
        "version": 3
      },
      "file_extension": ".py",
      "mimetype": "text/x-python",
      "name": "python",
      "nbconvert_exporter": "python",
      "pygments_lexer": "ipython3",
      "version": "3.6.3"
    }
  },
  "nbformat": 4,
  "nbformat_minor": 0
}