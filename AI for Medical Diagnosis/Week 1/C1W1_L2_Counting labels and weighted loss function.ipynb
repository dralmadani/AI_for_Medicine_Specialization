{
  "cells": [
    {
      "cell_type": "markdown",
      "metadata": {
        "id": "view-in-github",
        "colab_type": "text"
      },
      "source": [
        "<a href=\"https://colab.research.google.com/github/dralmadani/AI_for_Medicine_Specialization/blob/main/AI%20for%20Medical%20Diagnosis/Week%201/C1W1_L2_Counting%20labels%20and%20weighted%20loss%20function.ipynb\" target=\"_parent\"><img src=\"https://colab.research.google.com/assets/colab-badge.svg\" alt=\"Open In Colab\"/></a>"
      ]
    },
    {
      "cell_type": "markdown",
      "metadata": {
        "id": "Cy1UkqraoYmZ"
      },
      "source": [
        "## AI for Medicine Course 1 Week 1 lecture exercises"
      ]
    },
    {
      "cell_type": "code",
      "source": [
        "!git clone https://github.com/dralmadani/AI_for_Medicine_Specialization.git\n",
        "%cd '/content/AI_for_Medicine_Specialization/AI for Medical Diagnosis/Week 1'"
      ],
      "metadata": {
        "id": "IwVCoCdZo1_1",
        "outputId": "fadce212-1959-482e-fb01-877bb2234089",
        "colab": {
          "base_uri": "https://localhost:8080/"
        }
      },
      "execution_count": 1,
      "outputs": [
        {
          "output_type": "stream",
          "name": "stdout",
          "text": [
            "fatal: destination path 'AI_for_Medicine_Specialization' already exists and is not an empty directory.\n",
            "/content/AI_for_Medicine_Specialization/AI for Medical Diagnosis/Week 1\n"
          ]
        }
      ]
    },
    {
      "cell_type": "markdown",
      "metadata": {
        "id": "LiY07zOYoYma"
      },
      "source": [
        "<a name=\"counting-labels\"></a>\n",
        "# Counting labels\n",
        "\n",
        "As you saw in the lecture videos, one way to avoid having class imbalance impact the loss function is to weight the losses differently.  To choose the weights, you first need to calculate the class frequencies.\n",
        "\n",
        "For this exercise, you'll just get the count of each label.  Later on, you'll use the concepts practiced here to calculate frequencies in the assignment!"
      ]
    },
    {
      "cell_type": "code",
      "execution_count": 2,
      "metadata": {
        "id": "VH5CSu97oYmb"
      },
      "outputs": [],
      "source": [
        "# Import the necessary packages\n",
        "import numpy as np\n",
        "import pandas as pd\n",
        "import seaborn as sns\n",
        "import matplotlib.pyplot as plt\n",
        "%matplotlib inline"
      ]
    },
    {
      "cell_type": "code",
      "execution_count": 3,
      "metadata": {
        "id": "peaWfzUSoYmb"
      },
      "outputs": [],
      "source": [
        "# Read csv file containing training datadata\n",
        "train_df = pd.read_csv(\"nih/train-small.csv\")"
      ]
    },
    {
      "cell_type": "code",
      "execution_count": 4,
      "metadata": {
        "id": "urE2ZD4IoYmc",
        "outputId": "c583f2a1-fb9e-4b4e-f9bd-afae03d8efbe",
        "colab": {
          "base_uri": "https://localhost:8080/"
        }
      },
      "outputs": [
        {
          "output_type": "execute_result",
          "data": {
            "text/plain": [
              "Atelectasis           106\n",
              "Cardiomegaly           20\n",
              "Consolidation          33\n",
              "Edema                  16\n",
              "Effusion              128\n",
              "Emphysema              13\n",
              "Fibrosis               14\n",
              "Hernia                  2\n",
              "Infiltration          175\n",
              "Mass                   45\n",
              "Nodule                 54\n",
              "Pleural_Thickening     21\n",
              "Pneumonia              10\n",
              "Pneumothorax           38\n",
              "dtype: object"
            ]
          },
          "metadata": {},
          "execution_count": 4
        }
      ],
      "source": [
        "# Count up the number of instances of each class (drop non-class columns from the counts)\n",
        "class_counts = train_df.sum().drop(['Image','PatientId'])\n",
        "class_counts"
      ]
    },
    {
      "cell_type": "code",
      "execution_count": 5,
      "metadata": {
        "id": "FF3LgrJQoYmc",
        "outputId": "5e4ec90d-049e-4130-dd0e-8cce0b29183a",
        "colab": {
          "base_uri": "https://localhost:8080/"
        }
      },
      "outputs": [
        {
          "output_type": "stream",
          "name": "stdout",
          "text": [
            "The class Atelectasis has 106 samples\n",
            "The class Cardiomegaly has 20 samples\n",
            "The class Consolidation has 33 samples\n",
            "The class Edema has 16 samples\n",
            "The class Effusion has 128 samples\n",
            "The class Emphysema has 13 samples\n",
            "The class Fibrosis has 14 samples\n",
            "The class Hernia has 2 samples\n",
            "The class Infiltration has 175 samples\n",
            "The class Mass has 45 samples\n",
            "The class Nodule has 54 samples\n",
            "The class Pleural_Thickening has 21 samples\n",
            "The class Pneumonia has 10 samples\n",
            "The class Pneumothorax has 38 samples\n"
          ]
        }
      ],
      "source": [
        "for column in class_counts.keys():\n",
        "    print(f\"The class {column} has {train_df[column].sum()} samples\")"
      ]
    },
    {
      "cell_type": "code",
      "execution_count": 6,
      "metadata": {
        "id": "LmzuTXa0oYmd",
        "outputId": "10dd8134-bced-4f7c-93cf-63075d20dd66",
        "colab": {
          "base_uri": "https://localhost:8080/",
          "height": 357
        }
      },
      "outputs": [
        {
          "output_type": "stream",
          "name": "stderr",
          "text": [
            "/usr/local/lib/python3.7/dist-packages/seaborn/_decorators.py:43: FutureWarning: Pass the following variables as keyword args: x, y. From version 0.12, the only valid positional argument will be `data`, and passing other arguments without an explicit keyword will result in an error or misinterpretation.\n",
            "  FutureWarning\n"
          ]
        },
        {
          "output_type": "display_data",
          "data": {
            "text/plain": [
              "<Figure size 432x288 with 1 Axes>"
            ],
            "image/png": "[encoded data removed]"
          },
          "metadata": {
            "needs_background": "light"
          }
        }
      ],
      "source": [
        "# Plot up the distribution of counts\n",
        "\n",
        "sns.barplot(class_counts.values, class_counts.index, color='b')\n",
        "plt.title('Distribution of Classes for Training Dataset', fontsize=15)\n",
        "plt.xlabel('Number of Patients', fontsize=15)\n",
        "plt.ylabel('Diseases', fontsize=15)\n",
        "plt.show()"
      ]
    },
    {
      "cell_type": "markdown",
      "metadata": {
        "id": "L8qLD13HoYmd"
      },
      "source": [
        "<a name=\"weighted-loss\"></a>\n",
        "# Weighted Loss function\n"
      ]
    },
    {
      "cell_type": "markdown",
      "metadata": {
        "id": "Rj9a-rTzoYmd"
      },
      "source": [
        "Below is an example of calculating weighted loss.  In the assignment, you will calculate a weighted loss function.  This sample code will give you some intuition for what the weighted loss function is doing, and also help you practice some syntax you will use in the graded assignment.\n",
        "\n",
        "For this example, you'll first define a hypothetical set of true labels and then a set of predictions.\n",
        "\n",
        "Run the next cell to create the 'ground truth' labels."
      ]
    },
    {
      "cell_type": "code",
      "execution_count": 7,
      "metadata": {
        "id": "4jWiSz3VoYmd",
        "outputId": "0282834a-4411-4451-d31c-8a389712aaaa",
        "colab": {
          "base_uri": "https://localhost:8080/"
        }
      },
      "outputs": [
        {
          "output_type": "stream",
          "name": "stdout",
          "text": [
            "y_true: \n",
            "[[1]\n",
            " [1]\n",
            " [1]\n",
            " [0]]\n"
          ]
        }
      ],
      "source": [
        "# Generate an array of 4 binary label values, 3 positive and 1 negative\n",
        "y_true = np.array(\n",
        "        [[1],\n",
        "         [1],\n",
        "         [1],\n",
        "         [0]])\n",
        "print(f\"y_true: \\n{y_true}\")"
      ]
    },
    {
      "cell_type": "markdown",
      "metadata": {
        "id": "6R57FRnCoYme"
      },
      "source": [
        "### Two models\n",
        "To better understand the loss function, you will pretend that you have two models.\n",
        "- Model 1 always outputs a 0.9 for any example that it's given.  \n",
        "- Model 2 always outputs a 0.1 for any example that it's given."
      ]
    },
    {
      "cell_type": "code",
      "execution_count": 8,
      "metadata": {
        "id": "C-bS0M4loYme",
        "outputId": "898a3a29-0040-4c24-c7db-934853dfc019",
        "colab": {
          "base_uri": "https://localhost:8080/"
        }
      },
      "outputs": [
        {
          "output_type": "stream",
          "name": "stdout",
          "text": [
            "y_pred_1: \n",
            "[[0.9]\n",
            " [0.9]\n",
            " [0.9]\n",
            " [0.9]]\n",
            "\n",
            "y_pred_2: \n",
            "[[0.1]\n",
            " [0.1]\n",
            " [0.1]\n",
            " [0.1]]\n"
          ]
        }
      ],
      "source": [
        "# Make model predictions that are always 0.9 for all examples\n",
        "y_pred_1 = 0.9 * np.ones(y_true.shape)\n",
        "print(f\"y_pred_1: \\n{y_pred_1}\")\n",
        "print()\n",
        "y_pred_2 = 0.1 * np.ones(y_true.shape)\n",
        "print(f\"y_pred_2: \\n{y_pred_2}\")"
      ]
    },
    {
      "cell_type": "markdown",
      "metadata": {
        "id": "An6v9eVToYme"
      },
      "source": [
        "### Problems with the regular loss function\n",
        "The learning goal here is to notice that with a regular loss function (not a weighted loss), the model that always outputs 0.9 has a smaller loss (performs better) than model 2.\n",
        "- This is because there is a class imbalance, where 3 out of the 4 labels are 1.\n",
        "- If the data were perfectly balanced, (two labels were 1, and two labels were 0), model 1 and model 2 would have the same loss.  Each would get two examples correct and two examples incorrect.\n",
        "- However, since the data is not balanced, the regular loss function implies that model 1 is better than model 2."
      ]
    },
    {
      "cell_type": "markdown",
      "metadata": {
        "id": "PlttWO0xoYmf"
      },
      "source": [
        "### Notice the shortcomings of a regular non-weighted loss\n",
        "\n",
        "See what loss you get from these two models (model 1 always predicts 0.9, and model 2 always predicts 0.1), see what the regular (unweighted) loss function is for each model."
      ]
    },
    {
      "cell_type": "code",
      "execution_count": 9,
      "metadata": {
        "id": "i8HCWuKboYmf",
        "outputId": "a584b153-a18c-456a-9681-4b6181aace2f",
        "colab": {
          "base_uri": "https://localhost:8080/"
        }
      },
      "outputs": [
        {
          "output_type": "stream",
          "name": "stdout",
          "text": [
            "loss_reg_1: 2.6187\n"
          ]
        }
      ],
      "source": [
        "loss_reg_1 = -1 * np.sum(y_true * np.log(y_pred_1)) + \\\n",
        "                -1 * np.sum((1 - y_true) * np.log(1 - y_pred_1))\n",
        "print(f\"loss_reg_1: {loss_reg_1:.4f}\")"
      ]
    },
    {
      "cell_type": "code",
      "execution_count": 10,
      "metadata": {
        "id": "faBWzAQIoYmf",
        "outputId": "536e922c-3ac8-407d-d596-f145aeff2c5b",
        "colab": {
          "base_uri": "https://localhost:8080/"
        }
      },
      "outputs": [
        {
          "output_type": "stream",
          "name": "stdout",
          "text": [
            "loss_reg_2: 7.0131\n"
          ]
        }
      ],
      "source": [
        "loss_reg_2 = -1 * np.sum(y_true * np.log(y_pred_2)) + \\\n",
        "                -1 * np.sum((1 - y_true) * np.log(1 - y_pred_2))\n",
        "print(f\"loss_reg_2: {loss_reg_2:.4f}\")"
      ]
    },
    {
      "cell_type": "code",
      "execution_count": 11,
      "metadata": {
        "id": "Cicbs2tboYmf",
        "outputId": "ced3313a-db5c-4e11-e7e5-ee2c1dab9293",
        "colab": {
          "base_uri": "https://localhost:8080/"
        }
      },
      "outputs": [
        {
          "output_type": "stream",
          "name": "stdout",
          "text": [
            "When the model 1 always predicts 0.9, the regular loss is 2.6187\n",
            "When the model 2 always predicts 0.1, the regular loss is 7.0131\n"
          ]
        }
      ],
      "source": [
        "print(f\"When the model 1 always predicts 0.9, the regular loss is {loss_reg_1:.4f}\")\n",
        "print(f\"When the model 2 always predicts 0.1, the regular loss is {loss_reg_2:.4f}\")"
      ]
    },
    {
      "cell_type": "markdown",
      "metadata": {
        "id": "Kg2izH_ToYmg"
      },
      "source": [
        "Notice that the loss function gives a greater loss when the predictions are always 0.1, because the data is imbalanced, and has three labels of `1` but only one label for `0`.\n",
        "\n",
        "Given a class imbalance with more positive labels, the regular loss function implies that the model with the higher prediction of 0.9 performs better than the model with the lower prediction of 0.1"
      ]
    },
    {
      "cell_type": "markdown",
      "metadata": {
        "id": "IwOBknzqoYmg"
      },
      "source": [
        "### How a weighted loss treats both models the same\n",
        "With a weighted loss function, you will get the same weighted loss when the predictions are all 0.9 versus when the predictions are all 0.1.  \n",
        "- Notice how a prediction of 0.9 is 0.1 away from the positive label of 1.\n",
        "- Also notice how a prediction of 0.1 is 0.1 away from the negative label of 0\n",
        "- So model 1 and 2 are \"symmetric\" along the midpoint of 0.5, if you plot them on a number line between 0 and 1."
      ]
    },
    {
      "cell_type": "markdown",
      "metadata": {
        "id": "Mr7Hz6-8oYmg"
      },
      "source": [
        "### Weighted Loss Equation\n",
        "Calculate the loss for the zero-th label (column at index 0)\n",
        "\n",
        "- The loss is made up of two terms.  To make it easier to read the code, you will calculate each of these terms separately.  We are giving each of these two terms a name for explanatory purposes, but these are not officially called $loss_{pos}$ or $loss_{neg}$\n",
        "\n",
        "    - $loss_{pos}$: we'll use this to refer to the loss where the actual label is positive (the positive examples).\n",
        "    - $loss_{neg}$: we'll use this to refer to the loss where the actual label is negative (the negative examples).  \n",
        "\n",
        "$$ loss^{(i)} = loss_{pos}^{(i)} + los_{neg}^{(i)} $$\n",
        "\n",
        "$$loss_{pos}^{(i)} = -1 \\times weight_{pos}^{(i)} \\times y^{(i)} \\times log(\\hat{y}^{(i)})$$\n",
        "\n",
        "$$loss_{neg}^{(i)} = -1 \\times weight_{neg}^{(i)} \\times (1- y^{(i)}) \\times log(1 - \\hat{y}^{(i)})$$"
      ]
    },
    {
      "cell_type": "markdown",
      "metadata": {
        "id": "WXN9BxXDoYmh"
      },
      "source": [
        "Since this sample dataset is small enough, you can calculate the positive weight to be used in the weighted loss function.  To get the positive weight, count how many NEGATIVE labels are present, divided by the total number of examples.\n",
        "\n",
        "In this case, there is one negative label, and four total examples.\n",
        "\n",
        "Similarly, the negative weight is the fraction of positive labels.\n",
        "\n",
        "Run the next cell to define positive and negative weights."
      ]
    },
    {
      "cell_type": "code",
      "execution_count": 12,
      "metadata": {
        "id": "8FAX5gZ9oYmh",
        "outputId": "d0ff49ce-8c7b-4e59-c8b0-f41519293fc2",
        "colab": {
          "base_uri": "https://localhost:8080/"
        }
      },
      "outputs": [
        {
          "output_type": "stream",
          "name": "stdout",
          "text": [
            "positive weight w_p: 0.25\n",
            "negative weight w_n 0.75\n"
          ]
        }
      ],
      "source": [
        "# calculate the positive weight as the fraction of negative labels\n",
        "w_p = 1/4\n",
        "\n",
        "# calculate the negative weight as the fraction of positive labels\n",
        "w_n = 3/4\n",
        "\n",
        "print(f\"positive weight w_p: {w_p}\")\n",
        "print(f\"negative weight w_n {w_n}\")"
      ]
    },
    {
      "cell_type": "markdown",
      "metadata": {
        "id": "6EvgvhhSoYmh"
      },
      "source": [
        "### Model 1 weighted loss\n",
        "Run the next two cells to calculate the two loss terms separately.\n",
        "\n",
        "Here, `loss_1_pos` and `loss_1_neg` are calculated using the `y_pred_1` predictions."
      ]
    },
    {
      "cell_type": "code",
      "execution_count": 13,
      "metadata": {
        "id": "axx2Sam4oYmi",
        "outputId": "8b7b7406-56da-40e5-df8c-fe1f4fd5c02c",
        "colab": {
          "base_uri": "https://localhost:8080/"
        }
      },
      "outputs": [
        {
          "output_type": "stream",
          "name": "stdout",
          "text": [
            "loss_1_pos: 0.0790\n"
          ]
        }
      ],
      "source": [
        "# Calculate and print out the first term in the loss function, which we are calling 'loss_pos'\n",
        "loss_1_pos = -1 * np.sum(w_p * y_true * np.log(y_pred_1 ))\n",
        "print(f\"loss_1_pos: {loss_1_pos:.4f}\")"
      ]
    },
    {
      "cell_type": "code",
      "execution_count": 14,
      "metadata": {
        "id": "EDfewx-SoYmi",
        "outputId": "edf0a842-2d20-4921-bbff-051d9e00d038",
        "colab": {
          "base_uri": "https://localhost:8080/"
        }
      },
      "outputs": [
        {
          "output_type": "stream",
          "name": "stdout",
          "text": [
            "loss_1_neg: 1.7269\n"
          ]
        }
      ],
      "source": [
        "# Calculate and print out the second term in the loss function, which we're calling 'loss_neg'\n",
        "loss_1_neg = -1 * np.sum(w_n * (1 - y_true) * np.log(1 - y_pred_1 ))\n",
        "print(f\"loss_1_neg: {loss_1_neg:.4f}\")"
      ]
    },
    {
      "cell_type": "code",
      "execution_count": 15,
      "metadata": {
        "id": "2DV50rBwoYmi",
        "outputId": "9ee2abc7-448e-4b40-9d11-71c70f2568fd",
        "colab": {
          "base_uri": "https://localhost:8080/"
        }
      },
      "outputs": [
        {
          "output_type": "stream",
          "name": "stdout",
          "text": [
            "loss_1: 1.8060\n"
          ]
        }
      ],
      "source": [
        "# Sum positive and negative losses to calculate total loss\n",
        "loss_1 = loss_1_pos + loss_1_neg\n",
        "print(f\"loss_1: {loss_1:.4f}\")"
      ]
    },
    {
      "cell_type": "markdown",
      "metadata": {
        "id": "5MzQYEojoYmi"
      },
      "source": [
        "### Model 2 weighted loss\n",
        "\n",
        "Now do the same calculations for when the predictions are from `y_pred_2'.  Calculate the two terms of the weighted loss function and add them together."
      ]
    },
    {
      "cell_type": "code",
      "execution_count": 16,
      "metadata": {
        "id": "j2ZpfugboYmj",
        "outputId": "bfcc4b42-3f0d-49e9-b708-6e19946eb2a0",
        "colab": {
          "base_uri": "https://localhost:8080/"
        }
      },
      "outputs": [
        {
          "output_type": "stream",
          "name": "stdout",
          "text": [
            "loss_2_pos: 1.7269\n"
          ]
        }
      ],
      "source": [
        "# Calculate and print out the first term in the loss function, which we are calling 'loss_pos'\n",
        "loss_2_pos = -1 * np.sum(w_p * y_true * np.log(y_pred_2))\n",
        "print(f\"loss_2_pos: {loss_2_pos:.4f}\")"
      ]
    },
    {
      "cell_type": "code",
      "execution_count": 17,
      "metadata": {
        "id": "LRPEuZd7oYmj",
        "outputId": "ccaa84a7-2517-4f7b-c4c0-6fcb6fec5416",
        "colab": {
          "base_uri": "https://localhost:8080/"
        }
      },
      "outputs": [
        {
          "output_type": "stream",
          "name": "stdout",
          "text": [
            "loss_2_neg: 0.0790\n"
          ]
        }
      ],
      "source": [
        "# Calculate and print out the second term in the loss function, which we're calling 'loss_neg'\n",
        "loss_2_neg = -1 * np.sum(w_n * (1 - y_true) * np.log(1 - y_pred_2))\n",
        "print(f\"loss_2_neg: {loss_2_neg:.4f}\")"
      ]
    },
    {
      "cell_type": "code",
      "execution_count": 18,
      "metadata": {
        "id": "D73PjirMoYmj",
        "outputId": "4ceb08bd-f2ff-4fbe-f684-8c2a1eda1f00",
        "colab": {
          "base_uri": "https://localhost:8080/"
        }
      },
      "outputs": [
        {
          "output_type": "stream",
          "name": "stdout",
          "text": [
            "loss_2: 1.8060\n"
          ]
        }
      ],
      "source": [
        "# Sum positive and negative losses to calculate total loss when the prediction is y_pred_2\n",
        "loss_2 = loss_2_pos + loss_2_neg\n",
        "print(f\"loss_2: {loss_2:.4f}\")"
      ]
    },
    {
      "cell_type": "markdown",
      "metadata": {
        "id": "EEmhMAbfoYmj"
      },
      "source": [
        "### Compare model 1 and model 2 weighted loss"
      ]
    },
    {
      "cell_type": "code",
      "execution_count": 19,
      "metadata": {
        "id": "GPmqAM1xoYmj",
        "outputId": "a66ef501-2055-4e39-a6ce-aabed6867d22",
        "colab": {
          "base_uri": "https://localhost:8080/"
        }
      },
      "outputs": [
        {
          "output_type": "stream",
          "name": "stdout",
          "text": [
            "When the model always predicts 0.9, the total loss is 1.8060\n",
            "When the model always predicts 0.1, the total loss is 1.8060\n"
          ]
        }
      ],
      "source": [
        "print(f\"When the model always predicts 0.9, the total loss is {loss_1:.4f}\")\n",
        "print(f\"When the model always predicts 0.1, the total loss is {loss_2:.4f}\")"
      ]
    },
    {
      "cell_type": "markdown",
      "metadata": {
        "id": "2BFDQhhnoYmj"
      },
      "source": [
        "### What do you notice?\n",
        "Since you used a weighted loss, the calculated loss is the same whether the model always predicts 0.9 or always predicts 0.1.  \n",
        "\n",
        "You may have also noticed that when you calculate each term of the weighted loss separately, there is a bit of symmetry when comparing between the two sets of predictions."
      ]
    },
    {
      "cell_type": "code",
      "execution_count": 20,
      "metadata": {
        "id": "crr1_xefoYmk",
        "outputId": "6762a007-4b3f-4b6b-da84-3a9ebb6850fc",
        "colab": {
          "base_uri": "https://localhost:8080/"
        }
      },
      "outputs": [
        {
          "output_type": "stream",
          "name": "stdout",
          "text": [
            "loss_1_pos: 0.0790 \t loss_1_neg: 1.7269\n",
            "\n",
            "loss_2_pos: 1.7269 \t loss_2_neg: 0.0790\n"
          ]
        }
      ],
      "source": [
        "print(f\"loss_1_pos: {loss_1_pos:.4f} \\t loss_1_neg: {loss_1_neg:.4f}\")\n",
        "print()\n",
        "print(f\"loss_2_pos: {loss_2_pos:.4f} \\t loss_2_neg: {loss_2_neg:.4f}\")"
      ]
    },
    {
      "cell_type": "markdown",
      "metadata": {
        "id": "lmd9C0gyoYmk"
      },
      "source": [
        "Even though there is a class imbalance, where there are 3 positive labels but only one negative label, the weighted loss accounts for this by giving more weight to the negative label than to the positive label."
      ]
    },
    {
      "cell_type": "markdown",
      "metadata": {
        "id": "yFvmFGGcoYmk"
      },
      "source": [
        "### Weighted Loss for more than one class\n",
        "\n",
        "In this week's assignment, you will calculate the multi-class weighted loss (when there is more than one disease class that your model is learning to predict).  Here, you can practice working with 2D numpy arrays, which will help you implement the multi-class weighted loss in the graded assignment.\n",
        "\n",
        "You will work with a dataset that has two disease classes (two columns)"
      ]
    },
    {
      "cell_type": "code",
      "execution_count": 21,
      "metadata": {
        "id": "joRTA2TCoYmk",
        "outputId": "88c9b8ee-c764-43e8-94d6-fdaaf34ddfd0",
        "colab": {
          "base_uri": "https://localhost:8080/"
        }
      },
      "outputs": [
        {
          "output_type": "execute_result",
          "data": {
            "text/plain": [
              "array([[1, 0],\n",
              "       [1, 0],\n",
              "       [1, 0],\n",
              "       [1, 0],\n",
              "       [0, 1]])"
            ]
          },
          "metadata": {},
          "execution_count": 21
        }
      ],
      "source": [
        "# View the labels (true values) that you will practice with\n",
        "y_true = np.array(\n",
        "        [[1,0],\n",
        "         [1,0],\n",
        "         [1,0],\n",
        "         [1,0],\n",
        "         [0,1]\n",
        "        ])\n",
        "y_true"
      ]
    },
    {
      "cell_type": "markdown",
      "metadata": {
        "id": "7wusveROoYmk"
      },
      "source": [
        "### Choosing axis=0 or axis=1\n",
        "You will use `numpy.sum` to count the number of times column `0` has the value 0.  \n",
        "First, notice the difference when you set axis=0 versus axis=1"
      ]
    },
    {
      "cell_type": "code",
      "execution_count": 22,
      "metadata": {
        "id": "z93MxZ2-oYml",
        "outputId": "b1df860b-e45b-4804-b473-cf03138bcef1",
        "colab": {
          "base_uri": "https://localhost:8080/"
        }
      },
      "outputs": [
        {
          "output_type": "stream",
          "name": "stdout",
          "text": [
            "using axis = 0 [4 1]\n",
            "using axis = 1 [1 1 1 1 1]\n"
          ]
        }
      ],
      "source": [
        "# See what happens when you set axis=0\n",
        "print(f\"using axis = 0 {np.sum(y_true,axis=0)}\")\n",
        "\n",
        "# Compare this to what happens when you set axis=1\n",
        "print(f\"using axis = 1 {np.sum(y_true,axis=1)}\")"
      ]
    },
    {
      "cell_type": "markdown",
      "metadata": {
        "id": "s5rUo98doYml"
      },
      "source": [
        "Notice that if you choose `axis=0`, the sum is taken for each of the two columns.  This is what you want to do in this case. If you set `axis=1`, the sum is taken for each row."
      ]
    },
    {
      "cell_type": "markdown",
      "metadata": {
        "id": "27MF5WFUoYml"
      },
      "source": [
        "### Calculate the weights\n",
        "Previously, you visually inspected the data to calculate the fraction of negative and positive labels.  Here, you can do this programmatically."
      ]
    },
    {
      "cell_type": "code",
      "execution_count": 23,
      "metadata": {
        "id": "BxlVENx9oYml",
        "outputId": "c5a24c14-8767-4114-b539-c59a3799cc58",
        "colab": {
          "base_uri": "https://localhost:8080/"
        }
      },
      "outputs": [
        {
          "output_type": "execute_result",
          "data": {
            "text/plain": [
              "array([0.2, 0.8])"
            ]
          },
          "metadata": {},
          "execution_count": 23
        }
      ],
      "source": [
        "# set the positive weights as the fraction of negative labels (0) for each class (each column)\n",
        "w_p = np.sum(y_true == 0,axis=0) / y_true.shape[0]\n",
        "w_p"
      ]
    },
    {
      "cell_type": "code",
      "execution_count": 24,
      "metadata": {
        "id": "AONXW-PJoYml",
        "outputId": "e1f0d375-0e70-446a-9cb4-e038c53ceaa0",
        "colab": {
          "base_uri": "https://localhost:8080/"
        }
      },
      "outputs": [
        {
          "output_type": "execute_result",
          "data": {
            "text/plain": [
              "array([0.8, 0.2])"
            ]
          },
          "metadata": {},
          "execution_count": 24
        }
      ],
      "source": [
        "# set the negative weights as the fraction of positive labels (1) for each class\n",
        "w_n = np.sum(y_true == 1, axis=0) / y_true.shape[0]\n",
        "w_n"
      ]
    },
    {
      "cell_type": "markdown",
      "metadata": {
        "id": "GOPzCMrPoYml"
      },
      "source": [
        "In the assignment, you will train a model to try and make useful predictions.  In order to make this example easier to follow, you will pretend that your model always predicts the same value for every example."
      ]
    },
    {
      "cell_type": "code",
      "execution_count": 25,
      "metadata": {
        "id": "rY4PNBBIoYmm",
        "outputId": "e2e53ac8-51e9-4d80-ce2d-fa3b061b54ce",
        "colab": {
          "base_uri": "https://localhost:8080/"
        }
      },
      "outputs": [
        {
          "output_type": "execute_result",
          "data": {
            "text/plain": [
              "array([[0.3, 0.7],\n",
              "       [0.3, 0.7],\n",
              "       [0.3, 0.7],\n",
              "       [0.3, 0.7],\n",
              "       [0.3, 0.7]])"
            ]
          },
          "metadata": {},
          "execution_count": 25
        }
      ],
      "source": [
        "# Set model predictions where all predictions are the same\n",
        "y_pred = np.ones(y_true.shape)\n",
        "y_pred[:,0] = 0.3 * y_pred[:,0]\n",
        "y_pred[:,1] = 0.7 * y_pred[:,1]\n",
        "y_pred"
      ]
    },
    {
      "cell_type": "markdown",
      "metadata": {
        "id": "JQ9nK48ooYmm"
      },
      "source": [
        "As before, calculate the two terms that make up the loss function.  Notice that you are working with more than one class (represented by columns).  In this case, there are two classes.\n",
        "\n",
        "Start by calculating the loss for class `0`.\n",
        "\n",
        "$$ loss^{(i)} = loss_{pos}^{(i)} + los_{neg}^{(i)} $$\n",
        "\n",
        "$$loss_{pos}^{(i)} = -1 \\times weight_{pos}^{(i)} \\times y^{(i)} \\times log(\\hat{y}^{(i)})$$\n",
        "\n",
        "$$loss_{neg}^{(i)} = -1 \\times weight_{neg}^{(i)} \\times (1- y^{(i)}) \\times log(1 - \\hat{y}^{(i)})$$"
      ]
    },
    {
      "cell_type": "markdown",
      "metadata": {
        "id": "8Trgwp9ToYmm"
      },
      "source": [
        "View the zero column for the weights, true values, and predictions that you will use to calculate the loss from the positive predictions."
      ]
    },
    {
      "cell_type": "code",
      "execution_count": 26,
      "metadata": {
        "id": "aZMZaEsLoYmm",
        "outputId": "d5d726c4-d34b-4ad9-daa0-d453103fd8bb",
        "colab": {
          "base_uri": "https://localhost:8080/"
        }
      },
      "outputs": [
        {
          "output_type": "stream",
          "name": "stdout",
          "text": [
            "w_p[0]: 0.2\n",
            "y_true[:,0]: [1 1 1 1 0]\n",
            "y_pred[:,0]: [0.3 0.3 0.3 0.3 0.3]\n"
          ]
        }
      ],
      "source": [
        "# Print and view column zero of the weight\n",
        "print(f\"w_p[0]: {w_p[0]}\")\n",
        "print(f\"y_true[:,0]: {y_true[:,0]}\")\n",
        "print(f\"y_pred[:,0]: {y_pred[:,0]}\")"
      ]
    },
    {
      "cell_type": "code",
      "execution_count": 27,
      "metadata": {
        "id": "V-5KNAixoYmm",
        "outputId": "29159850-d64b-4e8f-ef52-981056c991ca",
        "colab": {
          "base_uri": "https://localhost:8080/"
        }
      },
      "outputs": [
        {
          "output_type": "stream",
          "name": "stdout",
          "text": [
            "loss_0_pos: 0.9632\n"
          ]
        }
      ],
      "source": [
        "# calculate the loss from the positive predictions, for class 0\n",
        "loss_0_pos = -1 * np.sum(w_p[0] * \n",
        "                y_true[:, 0] * \n",
        "                np.log(y_pred[:, 0])\n",
        "              )\n",
        "print(f\"loss_0_pos: {loss_0_pos:.4f}\")"
      ]
    },
    {
      "cell_type": "markdown",
      "metadata": {
        "id": "wGqOS8Z2oYmn"
      },
      "source": [
        "View the zero column for the weights, true values, and predictions that you will use to calculate the loss from the negative predictions."
      ]
    },
    {
      "cell_type": "code",
      "execution_count": 28,
      "metadata": {
        "id": "Qe8s0XB5oYmn",
        "outputId": "35a6928b-034f-4367-d4dc-8cc44ad7fd13",
        "colab": {
          "base_uri": "https://localhost:8080/"
        }
      },
      "outputs": [
        {
          "output_type": "stream",
          "name": "stdout",
          "text": [
            "w_n[0]: 0.8\n",
            "y_true[:,0]: [1 1 1 1 0]\n",
            "y_pred[:,0]: [0.3 0.3 0.3 0.3 0.3]\n"
          ]
        }
      ],
      "source": [
        "# Print and view column zero of the weight\n",
        "print(f\"w_n[0]: {w_n[0]}\")\n",
        "print(f\"y_true[:,0]: {y_true[:,0]}\")\n",
        "print(f\"y_pred[:,0]: {y_pred[:,0]}\")"
      ]
    },
    {
      "cell_type": "code",
      "execution_count": 29,
      "metadata": {
        "id": "YACBiAFloYmn",
        "outputId": "311f70a2-057c-4ef5-c815-5006906443e1",
        "colab": {
          "base_uri": "https://localhost:8080/"
        }
      },
      "outputs": [
        {
          "output_type": "stream",
          "name": "stdout",
          "text": [
            "loss_0_neg: 0.2853\n"
          ]
        }
      ],
      "source": [
        "# Calculate the loss from the negative predictions, for class 0\n",
        "loss_0_neg = -1 * np.sum( \n",
        "                w_n[0] * \n",
        "                (1 - y_true[:, 0]) * \n",
        "                np.log(1 - y_pred[:, 0])\n",
        "              )\n",
        "print(f\"loss_0_neg: {loss_0_neg:.4f}\")"
      ]
    },
    {
      "cell_type": "code",
      "execution_count": 30,
      "metadata": {
        "id": "sKbpWkP_oYmn",
        "outputId": "77e93616-093b-436d-a186-b6c71368f13a",
        "colab": {
          "base_uri": "https://localhost:8080/"
        }
      },
      "outputs": [
        {
          "output_type": "stream",
          "name": "stdout",
          "text": [
            "loss_0: 1.2485\n"
          ]
        }
      ],
      "source": [
        "# add the two loss terms to get the total loss for class 0\n",
        "loss_0 = loss_0_neg + loss_0_pos\n",
        "print(f\"loss_0: {loss_0:.4f}\")"
      ]
    },
    {
      "cell_type": "markdown",
      "metadata": {
        "id": "eu1eHieAoYmn"
      },
      "source": [
        "Now you are familiar with the array slicing that you would use when there are multiple disease classes stored in a two-dimensional array.\n",
        "\n",
        "#### Now it's your turn!\n",
        "* Can you calculate the loss for class (column) `1`?  "
      ]
    },
    {
      "cell_type": "code",
      "execution_count": 31,
      "metadata": {
        "id": "5kk2yxxHoYmn"
      },
      "outputs": [],
      "source": [
        "# calculate the loss from the positive predictions, for class 1\n",
        "loss_1_pos = None"
      ]
    },
    {
      "cell_type": "markdown",
      "metadata": {
        "id": "N7kPqAowoYmo"
      },
      "source": [
        "Expected output\n",
        "```CPP\n",
        "loss_1_pos: 0.2853\n",
        "```"
      ]
    },
    {
      "cell_type": "code",
      "execution_count": 32,
      "metadata": {
        "id": "hWw0ewRroYmo"
      },
      "outputs": [],
      "source": [
        "# Calculate the loss from the negative predictions, for class 1\n",
        "loss_1_neg = None"
      ]
    },
    {
      "cell_type": "markdown",
      "metadata": {
        "id": "syjw2R-toYmo"
      },
      "source": [
        "#### Expected output\n",
        "```CPP\n",
        "loss_1_neg: 0.9632\n",
        "```"
      ]
    },
    {
      "cell_type": "code",
      "execution_count": 33,
      "metadata": {
        "id": "NuyCzf9qoYmo"
      },
      "outputs": [],
      "source": [
        "# add the two loss terms to get the total loss for class 0\n",
        "loss_1 = None"
      ]
    },
    {
      "cell_type": "markdown",
      "metadata": {
        "id": "x1hXGmVGoYmo"
      },
      "source": [
        "#### Expected output\n",
        "```CPP\n",
        "loss_1: 1.2485\n",
        "```"
      ]
    },
    {
      "cell_type": "markdown",
      "metadata": {
        "id": "qQtApUBFoYmo"
      },
      "source": [
        "### Note\n",
        "The data for the two classes (two columns) as well as the predictions were chosen so that you end up getting the same weighted loss for both categories.  \n",
        " - In general, you will expect to calculate different weighted loss values for each disease category, as the model predictions and data will differ from one category to another."
      ]
    },
    {
      "cell_type": "markdown",
      "metadata": {
        "id": "4sMzka-xoYmo"
      },
      "source": [
        "If you want some help, please click on the green \"Solution\" cell below to reveal the solution."
      ]
    },
    {
      "cell_type": "markdown",
      "metadata": {
        "id": "Ju3EQcRXoYmp"
      },
      "source": [
        "<details>    \n",
        "<summary>\n",
        "    <font size=\"3\" color=\"darkgreen\"><b>Solution</b></font>\n",
        "</summary>\n",
        "<p>\n",
        "<code>\n",
        "-- # calculate the loss from the positive predictions, for class 1\n",
        "loss_1_pos = -1 * np.sum(w_p[1] * \n",
        "                y_true[:, 1] * \n",
        "                np.log(y_pred[:, 1])\n",
        "              )\n",
        "print(f\"loss_1_pos: {loss_1_pos:.4f}\")\n",
        "    \n",
        "-- # Calculate the loss from the negative predictions, for class 1\n",
        "loss_1_neg = -1 * np.sum( \n",
        "                w_n[1] * \n",
        "                (1 - y_true[:, 1]) * \n",
        "                np.log(1 - y_pred[:, 1])\n",
        "              )\n",
        "print(f\"loss_1_neg: {loss_1_neg:.4f}\")\n",
        "\n",
        "-- # add the two loss terms to get the total loss for class 1\n",
        "loss_1 = loss_1_neg + loss_1_pos\n",
        "print(f\"loss_1: {loss_1:.4f}\")\n",
        "    </code>\n",
        "</p>\n"
      ]
    },
    {
      "cell_type": "markdown",
      "metadata": {
        "id": "tT01vAPsoYmp"
      },
      "source": [
        "### How this practice relates to and differs from the upcoming graded assignment\n",
        "- In the assignment, you will generalize this to calculating the loss for any number of classes.\n",
        "- Also in the assignment, you will learn how to avoid taking the log of zero by adding a small number (more details will be explained in the assignment).\n",
        "- Note that in the lecture videos and in this lecture notebook, you are taking the **sum** of losses for all examples.  In the assignment, you will take the **average (the mean)** for all examples.\n",
        "- Finally, in the assignment, you will work with \"tensors\" in TensorFlow, so you will use the TensorFlow equivalents of the numpy operations (keras.mean instead of numpy.mean)."
      ]
    },
    {
      "cell_type": "markdown",
      "metadata": {
        "id": "ISddkTzVoYmp"
      },
      "source": [
        "#### That's all for this lab. You now have a couple more tools you'll need for this week's assignment!"
      ]
    }
  ],
  "metadata": {
    "kernelspec": {
      "display_name": "Python 3",
      "language": "python",
      "name": "python3"
    },
    "language_info": {
      "codemirror_mode": {
        "name": "ipython",
        "version": 3
      },
      "file_extension": ".py",
      "mimetype": "text/x-python",
      "name": "python",
      "nbconvert_exporter": "python",
      "pygments_lexer": "ipython3",
      "version": "3.6.3"
    },
    "colab": {
      "name": "C1W1_L2_Counting labels and weighted loss function.ipynb",
      "provenance": [],
      "include_colab_link": true
    }
  },
  "nbformat": 4,
  "nbformat_minor": 0
}